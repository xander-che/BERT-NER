{
  "nbformat": 4,
  "nbformat_minor": 0,
  "metadata": {
    "colab": {
      "name": "TestTaskNER_BERT.ipynb",
      "provenance": [],
      "collapsed_sections": []
    },
    "kernelspec": {
      "name": "python3",
      "display_name": "Python 3"
    },
    "language_info": {
      "name": "python"
    },
    "accelerator": "GPU",
    "widgets": {
      "application/vnd.jupyter.widget-state+json": {
        "50b2bd6a475c40968cfaf2ba091da61d": {
          "model_module": "@jupyter-widgets/controls",
          "model_name": "HBoxModel",
          "state": {
            "_view_name": "HBoxView",
            "_dom_classes": [],
            "_model_name": "HBoxModel",
            "_view_module": "@jupyter-widgets/controls",
            "_model_module_version": "1.5.0",
            "_view_count": null,
            "_view_module_version": "1.5.0",
            "box_style": "",
            "layout": "IPY_MODEL_8430146162344ca1aa797cacef730237",
            "_model_module": "@jupyter-widgets/controls",
            "children": [
              "IPY_MODEL_ac4009b3f764409190842d6c01f7880c",
              "IPY_MODEL_44e8ad6e45be4e218cb6196dad2d7085"
            ]
          }
        },
        "8430146162344ca1aa797cacef730237": {
          "model_module": "@jupyter-widgets/base",
          "model_name": "LayoutModel",
          "state": {
            "_view_name": "LayoutView",
            "grid_template_rows": null,
            "right": null,
            "justify_content": null,
            "_view_module": "@jupyter-widgets/base",
            "overflow": null,
            "_model_module_version": "1.2.0",
            "_view_count": null,
            "flex_flow": null,
            "width": null,
            "min_width": null,
            "border": null,
            "align_items": null,
            "bottom": null,
            "_model_module": "@jupyter-widgets/base",
            "top": null,
            "grid_column": null,
            "overflow_y": null,
            "overflow_x": null,
            "grid_auto_flow": null,
            "grid_area": null,
            "grid_template_columns": null,
            "flex": null,
            "_model_name": "LayoutModel",
            "justify_items": null,
            "grid_row": null,
            "max_height": null,
            "align_content": null,
            "visibility": null,
            "align_self": null,
            "height": null,
            "min_height": null,
            "padding": null,
            "grid_auto_rows": null,
            "grid_gap": null,
            "max_width": null,
            "order": null,
            "_view_module_version": "1.2.0",
            "grid_template_areas": null,
            "object_position": null,
            "object_fit": null,
            "grid_auto_columns": null,
            "margin": null,
            "display": null,
            "left": null
          }
        },
        "ac4009b3f764409190842d6c01f7880c": {
          "model_module": "@jupyter-widgets/controls",
          "model_name": "FloatProgressModel",
          "state": {
            "_view_name": "ProgressView",
            "style": "IPY_MODEL_55608cc839844c88b8316ccc8fa655eb",
            "_dom_classes": [],
            "description": "Downloading: 100%",
            "_model_name": "FloatProgressModel",
            "bar_style": "success",
            "max": 213450,
            "_view_module": "@jupyter-widgets/controls",
            "_model_module_version": "1.5.0",
            "value": 213450,
            "_view_count": null,
            "_view_module_version": "1.5.0",
            "orientation": "horizontal",
            "min": 0,
            "description_tooltip": null,
            "_model_module": "@jupyter-widgets/controls",
            "layout": "IPY_MODEL_3acfc04ac92d4c268ef1e032111e77df"
          }
        },
        "44e8ad6e45be4e218cb6196dad2d7085": {
          "model_module": "@jupyter-widgets/controls",
          "model_name": "HTMLModel",
          "state": {
            "_view_name": "HTMLView",
            "style": "IPY_MODEL_2afd2c6aca5449e1921d4465e9f77eb5",
            "_dom_classes": [],
            "description": "",
            "_model_name": "HTMLModel",
            "placeholder": "​",
            "_view_module": "@jupyter-widgets/controls",
            "_model_module_version": "1.5.0",
            "value": " 213k/213k [00:00&lt;00:00, 530kB/s]",
            "_view_count": null,
            "_view_module_version": "1.5.0",
            "description_tooltip": null,
            "_model_module": "@jupyter-widgets/controls",
            "layout": "IPY_MODEL_17f7a465bfc746399511eff39bdfd78d"
          }
        },
        "55608cc839844c88b8316ccc8fa655eb": {
          "model_module": "@jupyter-widgets/controls",
          "model_name": "ProgressStyleModel",
          "state": {
            "_view_name": "StyleView",
            "_model_name": "ProgressStyleModel",
            "description_width": "initial",
            "_view_module": "@jupyter-widgets/base",
            "_model_module_version": "1.5.0",
            "_view_count": null,
            "_view_module_version": "1.2.0",
            "bar_color": null,
            "_model_module": "@jupyter-widgets/controls"
          }
        },
        "3acfc04ac92d4c268ef1e032111e77df": {
          "model_module": "@jupyter-widgets/base",
          "model_name": "LayoutModel",
          "state": {
            "_view_name": "LayoutView",
            "grid_template_rows": null,
            "right": null,
            "justify_content": null,
            "_view_module": "@jupyter-widgets/base",
            "overflow": null,
            "_model_module_version": "1.2.0",
            "_view_count": null,
            "flex_flow": null,
            "width": null,
            "min_width": null,
            "border": null,
            "align_items": null,
            "bottom": null,
            "_model_module": "@jupyter-widgets/base",
            "top": null,
            "grid_column": null,
            "overflow_y": null,
            "overflow_x": null,
            "grid_auto_flow": null,
            "grid_area": null,
            "grid_template_columns": null,
            "flex": null,
            "_model_name": "LayoutModel",
            "justify_items": null,
            "grid_row": null,
            "max_height": null,
            "align_content": null,
            "visibility": null,
            "align_self": null,
            "height": null,
            "min_height": null,
            "padding": null,
            "grid_auto_rows": null,
            "grid_gap": null,
            "max_width": null,
            "order": null,
            "_view_module_version": "1.2.0",
            "grid_template_areas": null,
            "object_position": null,
            "object_fit": null,
            "grid_auto_columns": null,
            "margin": null,
            "display": null,
            "left": null
          }
        },
        "2afd2c6aca5449e1921d4465e9f77eb5": {
          "model_module": "@jupyter-widgets/controls",
          "model_name": "DescriptionStyleModel",
          "state": {
            "_view_name": "StyleView",
            "_model_name": "DescriptionStyleModel",
            "description_width": "",
            "_view_module": "@jupyter-widgets/base",
            "_model_module_version": "1.5.0",
            "_view_count": null,
            "_view_module_version": "1.2.0",
            "_model_module": "@jupyter-widgets/controls"
          }
        },
        "17f7a465bfc746399511eff39bdfd78d": {
          "model_module": "@jupyter-widgets/base",
          "model_name": "LayoutModel",
          "state": {
            "_view_name": "LayoutView",
            "grid_template_rows": null,
            "right": null,
            "justify_content": null,
            "_view_module": "@jupyter-widgets/base",
            "overflow": null,
            "_model_module_version": "1.2.0",
            "_view_count": null,
            "flex_flow": null,
            "width": null,
            "min_width": null,
            "border": null,
            "align_items": null,
            "bottom": null,
            "_model_module": "@jupyter-widgets/base",
            "top": null,
            "grid_column": null,
            "overflow_y": null,
            "overflow_x": null,
            "grid_auto_flow": null,
            "grid_area": null,
            "grid_template_columns": null,
            "flex": null,
            "_model_name": "LayoutModel",
            "justify_items": null,
            "grid_row": null,
            "max_height": null,
            "align_content": null,
            "visibility": null,
            "align_self": null,
            "height": null,
            "min_height": null,
            "padding": null,
            "grid_auto_rows": null,
            "grid_gap": null,
            "max_width": null,
            "order": null,
            "_view_module_version": "1.2.0",
            "grid_template_areas": null,
            "object_position": null,
            "object_fit": null,
            "grid_auto_columns": null,
            "margin": null,
            "display": null,
            "left": null
          }
        },
        "b5a5c629a1bf4fccae4e63dbfede7547": {
          "model_module": "@jupyter-widgets/controls",
          "model_name": "HBoxModel",
          "state": {
            "_view_name": "HBoxView",
            "_dom_classes": [],
            "_model_name": "HBoxModel",
            "_view_module": "@jupyter-widgets/controls",
            "_model_module_version": "1.5.0",
            "_view_count": null,
            "_view_module_version": "1.5.0",
            "box_style": "",
            "layout": "IPY_MODEL_14cb112c7d1641dcbb78bd664eb8317b",
            "_model_module": "@jupyter-widgets/controls",
            "children": [
              "IPY_MODEL_ced226e532c64dab8583ff76bef7d3f7",
              "IPY_MODEL_1a81cc67c86b44b68cb521d894a053e5"
            ]
          }
        },
        "14cb112c7d1641dcbb78bd664eb8317b": {
          "model_module": "@jupyter-widgets/base",
          "model_name": "LayoutModel",
          "state": {
            "_view_name": "LayoutView",
            "grid_template_rows": null,
            "right": null,
            "justify_content": null,
            "_view_module": "@jupyter-widgets/base",
            "overflow": null,
            "_model_module_version": "1.2.0",
            "_view_count": null,
            "flex_flow": null,
            "width": null,
            "min_width": null,
            "border": null,
            "align_items": null,
            "bottom": null,
            "_model_module": "@jupyter-widgets/base",
            "top": null,
            "grid_column": null,
            "overflow_y": null,
            "overflow_x": null,
            "grid_auto_flow": null,
            "grid_area": null,
            "grid_template_columns": null,
            "flex": null,
            "_model_name": "LayoutModel",
            "justify_items": null,
            "grid_row": null,
            "max_height": null,
            "align_content": null,
            "visibility": null,
            "align_self": null,
            "height": null,
            "min_height": null,
            "padding": null,
            "grid_auto_rows": null,
            "grid_gap": null,
            "max_width": null,
            "order": null,
            "_view_module_version": "1.2.0",
            "grid_template_areas": null,
            "object_position": null,
            "object_fit": null,
            "grid_auto_columns": null,
            "margin": null,
            "display": null,
            "left": null
          }
        },
        "ced226e532c64dab8583ff76bef7d3f7": {
          "model_module": "@jupyter-widgets/controls",
          "model_name": "FloatProgressModel",
          "state": {
            "_view_name": "ProgressView",
            "style": "IPY_MODEL_7019cb6cbd3247009249ea6df10056c3",
            "_dom_classes": [],
            "description": "Downloading: 100%",
            "_model_name": "FloatProgressModel",
            "bar_style": "success",
            "max": 29,
            "_view_module": "@jupyter-widgets/controls",
            "_model_module_version": "1.5.0",
            "value": 29,
            "_view_count": null,
            "_view_module_version": "1.5.0",
            "orientation": "horizontal",
            "min": 0,
            "description_tooltip": null,
            "_model_module": "@jupyter-widgets/controls",
            "layout": "IPY_MODEL_d6aefe313df14f68bc5905c1aa9bc1b1"
          }
        },
        "1a81cc67c86b44b68cb521d894a053e5": {
          "model_module": "@jupyter-widgets/controls",
          "model_name": "HTMLModel",
          "state": {
            "_view_name": "HTMLView",
            "style": "IPY_MODEL_bbc8a3f79e13457d91d1aa88ab700490",
            "_dom_classes": [],
            "description": "",
            "_model_name": "HTMLModel",
            "placeholder": "​",
            "_view_module": "@jupyter-widgets/controls",
            "_model_module_version": "1.5.0",
            "value": " 29.0/29.0 [00:00&lt;00:00, 37.4B/s]",
            "_view_count": null,
            "_view_module_version": "1.5.0",
            "description_tooltip": null,
            "_model_module": "@jupyter-widgets/controls",
            "layout": "IPY_MODEL_65c0f52e6fb448d8a81d8b32774f746f"
          }
        },
        "7019cb6cbd3247009249ea6df10056c3": {
          "model_module": "@jupyter-widgets/controls",
          "model_name": "ProgressStyleModel",
          "state": {
            "_view_name": "StyleView",
            "_model_name": "ProgressStyleModel",
            "description_width": "initial",
            "_view_module": "@jupyter-widgets/base",
            "_model_module_version": "1.5.0",
            "_view_count": null,
            "_view_module_version": "1.2.0",
            "bar_color": null,
            "_model_module": "@jupyter-widgets/controls"
          }
        },
        "d6aefe313df14f68bc5905c1aa9bc1b1": {
          "model_module": "@jupyter-widgets/base",
          "model_name": "LayoutModel",
          "state": {
            "_view_name": "LayoutView",
            "grid_template_rows": null,
            "right": null,
            "justify_content": null,
            "_view_module": "@jupyter-widgets/base",
            "overflow": null,
            "_model_module_version": "1.2.0",
            "_view_count": null,
            "flex_flow": null,
            "width": null,
            "min_width": null,
            "border": null,
            "align_items": null,
            "bottom": null,
            "_model_module": "@jupyter-widgets/base",
            "top": null,
            "grid_column": null,
            "overflow_y": null,
            "overflow_x": null,
            "grid_auto_flow": null,
            "grid_area": null,
            "grid_template_columns": null,
            "flex": null,
            "_model_name": "LayoutModel",
            "justify_items": null,
            "grid_row": null,
            "max_height": null,
            "align_content": null,
            "visibility": null,
            "align_self": null,
            "height": null,
            "min_height": null,
            "padding": null,
            "grid_auto_rows": null,
            "grid_gap": null,
            "max_width": null,
            "order": null,
            "_view_module_version": "1.2.0",
            "grid_template_areas": null,
            "object_position": null,
            "object_fit": null,
            "grid_auto_columns": null,
            "margin": null,
            "display": null,
            "left": null
          }
        },
        "bbc8a3f79e13457d91d1aa88ab700490": {
          "model_module": "@jupyter-widgets/controls",
          "model_name": "DescriptionStyleModel",
          "state": {
            "_view_name": "StyleView",
            "_model_name": "DescriptionStyleModel",
            "description_width": "",
            "_view_module": "@jupyter-widgets/base",
            "_model_module_version": "1.5.0",
            "_view_count": null,
            "_view_module_version": "1.2.0",
            "_model_module": "@jupyter-widgets/controls"
          }
        },
        "65c0f52e6fb448d8a81d8b32774f746f": {
          "model_module": "@jupyter-widgets/base",
          "model_name": "LayoutModel",
          "state": {
            "_view_name": "LayoutView",
            "grid_template_rows": null,
            "right": null,
            "justify_content": null,
            "_view_module": "@jupyter-widgets/base",
            "overflow": null,
            "_model_module_version": "1.2.0",
            "_view_count": null,
            "flex_flow": null,
            "width": null,
            "min_width": null,
            "border": null,
            "align_items": null,
            "bottom": null,
            "_model_module": "@jupyter-widgets/base",
            "top": null,
            "grid_column": null,
            "overflow_y": null,
            "overflow_x": null,
            "grid_auto_flow": null,
            "grid_area": null,
            "grid_template_columns": null,
            "flex": null,
            "_model_name": "LayoutModel",
            "justify_items": null,
            "grid_row": null,
            "max_height": null,
            "align_content": null,
            "visibility": null,
            "align_self": null,
            "height": null,
            "min_height": null,
            "padding": null,
            "grid_auto_rows": null,
            "grid_gap": null,
            "max_width": null,
            "order": null,
            "_view_module_version": "1.2.0",
            "grid_template_areas": null,
            "object_position": null,
            "object_fit": null,
            "grid_auto_columns": null,
            "margin": null,
            "display": null,
            "left": null
          }
        },
        "4e68e51af7644891a2600abacf764dbb": {
          "model_module": "@jupyter-widgets/controls",
          "model_name": "HBoxModel",
          "state": {
            "_view_name": "HBoxView",
            "_dom_classes": [],
            "_model_name": "HBoxModel",
            "_view_module": "@jupyter-widgets/controls",
            "_model_module_version": "1.5.0",
            "_view_count": null,
            "_view_module_version": "1.5.0",
            "box_style": "",
            "layout": "IPY_MODEL_9f57e12903bb4c4ebd9ff885901da6b3",
            "_model_module": "@jupyter-widgets/controls",
            "children": [
              "IPY_MODEL_e8d26d41aa364f0ebd2d0c13b02f7d35",
              "IPY_MODEL_db96f9dd4394467ba32af4a91256bb2f"
            ]
          }
        },
        "9f57e12903bb4c4ebd9ff885901da6b3": {
          "model_module": "@jupyter-widgets/base",
          "model_name": "LayoutModel",
          "state": {
            "_view_name": "LayoutView",
            "grid_template_rows": null,
            "right": null,
            "justify_content": null,
            "_view_module": "@jupyter-widgets/base",
            "overflow": null,
            "_model_module_version": "1.2.0",
            "_view_count": null,
            "flex_flow": null,
            "width": null,
            "min_width": null,
            "border": null,
            "align_items": null,
            "bottom": null,
            "_model_module": "@jupyter-widgets/base",
            "top": null,
            "grid_column": null,
            "overflow_y": null,
            "overflow_x": null,
            "grid_auto_flow": null,
            "grid_area": null,
            "grid_template_columns": null,
            "flex": null,
            "_model_name": "LayoutModel",
            "justify_items": null,
            "grid_row": null,
            "max_height": null,
            "align_content": null,
            "visibility": null,
            "align_self": null,
            "height": null,
            "min_height": null,
            "padding": null,
            "grid_auto_rows": null,
            "grid_gap": null,
            "max_width": null,
            "order": null,
            "_view_module_version": "1.2.0",
            "grid_template_areas": null,
            "object_position": null,
            "object_fit": null,
            "grid_auto_columns": null,
            "margin": null,
            "display": null,
            "left": null
          }
        },
        "e8d26d41aa364f0ebd2d0c13b02f7d35": {
          "model_module": "@jupyter-widgets/controls",
          "model_name": "FloatProgressModel",
          "state": {
            "_view_name": "ProgressView",
            "style": "IPY_MODEL_86607c39345946339ec93ba2be7a062f",
            "_dom_classes": [],
            "description": "Downloading: 100%",
            "_model_name": "FloatProgressModel",
            "bar_style": "success",
            "max": 435797,
            "_view_module": "@jupyter-widgets/controls",
            "_model_module_version": "1.5.0",
            "value": 435797,
            "_view_count": null,
            "_view_module_version": "1.5.0",
            "orientation": "horizontal",
            "min": 0,
            "description_tooltip": null,
            "_model_module": "@jupyter-widgets/controls",
            "layout": "IPY_MODEL_c5e8fba701624e1c8b032a7c3b0ed0fa"
          }
        },
        "db96f9dd4394467ba32af4a91256bb2f": {
          "model_module": "@jupyter-widgets/controls",
          "model_name": "HTMLModel",
          "state": {
            "_view_name": "HTMLView",
            "style": "IPY_MODEL_17fa7050b19c4f5cb9d83380fb3fd5be",
            "_dom_classes": [],
            "description": "",
            "_model_name": "HTMLModel",
            "placeholder": "​",
            "_view_module": "@jupyter-widgets/controls",
            "_model_module_version": "1.5.0",
            "value": " 436k/436k [00:00&lt;00:00, 2.69MB/s]",
            "_view_count": null,
            "_view_module_version": "1.5.0",
            "description_tooltip": null,
            "_model_module": "@jupyter-widgets/controls",
            "layout": "IPY_MODEL_ebbc787f9abf41eb878773e4cc24ce14"
          }
        },
        "86607c39345946339ec93ba2be7a062f": {
          "model_module": "@jupyter-widgets/controls",
          "model_name": "ProgressStyleModel",
          "state": {
            "_view_name": "StyleView",
            "_model_name": "ProgressStyleModel",
            "description_width": "initial",
            "_view_module": "@jupyter-widgets/base",
            "_model_module_version": "1.5.0",
            "_view_count": null,
            "_view_module_version": "1.2.0",
            "bar_color": null,
            "_model_module": "@jupyter-widgets/controls"
          }
        },
        "c5e8fba701624e1c8b032a7c3b0ed0fa": {
          "model_module": "@jupyter-widgets/base",
          "model_name": "LayoutModel",
          "state": {
            "_view_name": "LayoutView",
            "grid_template_rows": null,
            "right": null,
            "justify_content": null,
            "_view_module": "@jupyter-widgets/base",
            "overflow": null,
            "_model_module_version": "1.2.0",
            "_view_count": null,
            "flex_flow": null,
            "width": null,
            "min_width": null,
            "border": null,
            "align_items": null,
            "bottom": null,
            "_model_module": "@jupyter-widgets/base",
            "top": null,
            "grid_column": null,
            "overflow_y": null,
            "overflow_x": null,
            "grid_auto_flow": null,
            "grid_area": null,
            "grid_template_columns": null,
            "flex": null,
            "_model_name": "LayoutModel",
            "justify_items": null,
            "grid_row": null,
            "max_height": null,
            "align_content": null,
            "visibility": null,
            "align_self": null,
            "height": null,
            "min_height": null,
            "padding": null,
            "grid_auto_rows": null,
            "grid_gap": null,
            "max_width": null,
            "order": null,
            "_view_module_version": "1.2.0",
            "grid_template_areas": null,
            "object_position": null,
            "object_fit": null,
            "grid_auto_columns": null,
            "margin": null,
            "display": null,
            "left": null
          }
        },
        "17fa7050b19c4f5cb9d83380fb3fd5be": {
          "model_module": "@jupyter-widgets/controls",
          "model_name": "DescriptionStyleModel",
          "state": {
            "_view_name": "StyleView",
            "_model_name": "DescriptionStyleModel",
            "description_width": "",
            "_view_module": "@jupyter-widgets/base",
            "_model_module_version": "1.5.0",
            "_view_count": null,
            "_view_module_version": "1.2.0",
            "_model_module": "@jupyter-widgets/controls"
          }
        },
        "ebbc787f9abf41eb878773e4cc24ce14": {
          "model_module": "@jupyter-widgets/base",
          "model_name": "LayoutModel",
          "state": {
            "_view_name": "LayoutView",
            "grid_template_rows": null,
            "right": null,
            "justify_content": null,
            "_view_module": "@jupyter-widgets/base",
            "overflow": null,
            "_model_module_version": "1.2.0",
            "_view_count": null,
            "flex_flow": null,
            "width": null,
            "min_width": null,
            "border": null,
            "align_items": null,
            "bottom": null,
            "_model_module": "@jupyter-widgets/base",
            "top": null,
            "grid_column": null,
            "overflow_y": null,
            "overflow_x": null,
            "grid_auto_flow": null,
            "grid_area": null,
            "grid_template_columns": null,
            "flex": null,
            "_model_name": "LayoutModel",
            "justify_items": null,
            "grid_row": null,
            "max_height": null,
            "align_content": null,
            "visibility": null,
            "align_self": null,
            "height": null,
            "min_height": null,
            "padding": null,
            "grid_auto_rows": null,
            "grid_gap": null,
            "max_width": null,
            "order": null,
            "_view_module_version": "1.2.0",
            "grid_template_areas": null,
            "object_position": null,
            "object_fit": null,
            "grid_auto_columns": null,
            "margin": null,
            "display": null,
            "left": null
          }
        },
        "776dbf2696f84b4e801f95ee905e5622": {
          "model_module": "@jupyter-widgets/controls",
          "model_name": "HBoxModel",
          "state": {
            "_view_name": "HBoxView",
            "_dom_classes": [],
            "_model_name": "HBoxModel",
            "_view_module": "@jupyter-widgets/controls",
            "_model_module_version": "1.5.0",
            "_view_count": null,
            "_view_module_version": "1.5.0",
            "box_style": "",
            "layout": "IPY_MODEL_cccfa05291694ca1b2eead6ecb772f79",
            "_model_module": "@jupyter-widgets/controls",
            "children": [
              "IPY_MODEL_a4fcb40adf6448cd83d32b50bb74a39c",
              "IPY_MODEL_ef151fe7ba0541ea8f58a3ded89c8253"
            ]
          }
        },
        "cccfa05291694ca1b2eead6ecb772f79": {
          "model_module": "@jupyter-widgets/base",
          "model_name": "LayoutModel",
          "state": {
            "_view_name": "LayoutView",
            "grid_template_rows": null,
            "right": null,
            "justify_content": null,
            "_view_module": "@jupyter-widgets/base",
            "overflow": null,
            "_model_module_version": "1.2.0",
            "_view_count": null,
            "flex_flow": null,
            "width": null,
            "min_width": null,
            "border": null,
            "align_items": null,
            "bottom": null,
            "_model_module": "@jupyter-widgets/base",
            "top": null,
            "grid_column": null,
            "overflow_y": null,
            "overflow_x": null,
            "grid_auto_flow": null,
            "grid_area": null,
            "grid_template_columns": null,
            "flex": null,
            "_model_name": "LayoutModel",
            "justify_items": null,
            "grid_row": null,
            "max_height": null,
            "align_content": null,
            "visibility": null,
            "align_self": null,
            "height": null,
            "min_height": null,
            "padding": null,
            "grid_auto_rows": null,
            "grid_gap": null,
            "max_width": null,
            "order": null,
            "_view_module_version": "1.2.0",
            "grid_template_areas": null,
            "object_position": null,
            "object_fit": null,
            "grid_auto_columns": null,
            "margin": null,
            "display": null,
            "left": null
          }
        },
        "a4fcb40adf6448cd83d32b50bb74a39c": {
          "model_module": "@jupyter-widgets/controls",
          "model_name": "FloatProgressModel",
          "state": {
            "_view_name": "ProgressView",
            "style": "IPY_MODEL_180421c18fb8439aabf5988bf1ffbfd1",
            "_dom_classes": [],
            "description": "Downloading: 100%",
            "_model_name": "FloatProgressModel",
            "bar_style": "success",
            "max": 570,
            "_view_module": "@jupyter-widgets/controls",
            "_model_module_version": "1.5.0",
            "value": 570,
            "_view_count": null,
            "_view_module_version": "1.5.0",
            "orientation": "horizontal",
            "min": 0,
            "description_tooltip": null,
            "_model_module": "@jupyter-widgets/controls",
            "layout": "IPY_MODEL_d471c31302af4f86a9a4cda2df994bd7"
          }
        },
        "ef151fe7ba0541ea8f58a3ded89c8253": {
          "model_module": "@jupyter-widgets/controls",
          "model_name": "HTMLModel",
          "state": {
            "_view_name": "HTMLView",
            "style": "IPY_MODEL_715fdab430394e64b4e002e3f7e40416",
            "_dom_classes": [],
            "description": "",
            "_model_name": "HTMLModel",
            "placeholder": "​",
            "_view_module": "@jupyter-widgets/controls",
            "_model_module_version": "1.5.0",
            "value": " 570/570 [00:00&lt;00:00, 6.11kB/s]",
            "_view_count": null,
            "_view_module_version": "1.5.0",
            "description_tooltip": null,
            "_model_module": "@jupyter-widgets/controls",
            "layout": "IPY_MODEL_fbb3ca6b4aa64e61a7ed0f1cdc45c62d"
          }
        },
        "180421c18fb8439aabf5988bf1ffbfd1": {
          "model_module": "@jupyter-widgets/controls",
          "model_name": "ProgressStyleModel",
          "state": {
            "_view_name": "StyleView",
            "_model_name": "ProgressStyleModel",
            "description_width": "initial",
            "_view_module": "@jupyter-widgets/base",
            "_model_module_version": "1.5.0",
            "_view_count": null,
            "_view_module_version": "1.2.0",
            "bar_color": null,
            "_model_module": "@jupyter-widgets/controls"
          }
        },
        "d471c31302af4f86a9a4cda2df994bd7": {
          "model_module": "@jupyter-widgets/base",
          "model_name": "LayoutModel",
          "state": {
            "_view_name": "LayoutView",
            "grid_template_rows": null,
            "right": null,
            "justify_content": null,
            "_view_module": "@jupyter-widgets/base",
            "overflow": null,
            "_model_module_version": "1.2.0",
            "_view_count": null,
            "flex_flow": null,
            "width": null,
            "min_width": null,
            "border": null,
            "align_items": null,
            "bottom": null,
            "_model_module": "@jupyter-widgets/base",
            "top": null,
            "grid_column": null,
            "overflow_y": null,
            "overflow_x": null,
            "grid_auto_flow": null,
            "grid_area": null,
            "grid_template_columns": null,
            "flex": null,
            "_model_name": "LayoutModel",
            "justify_items": null,
            "grid_row": null,
            "max_height": null,
            "align_content": null,
            "visibility": null,
            "align_self": null,
            "height": null,
            "min_height": null,
            "padding": null,
            "grid_auto_rows": null,
            "grid_gap": null,
            "max_width": null,
            "order": null,
            "_view_module_version": "1.2.0",
            "grid_template_areas": null,
            "object_position": null,
            "object_fit": null,
            "grid_auto_columns": null,
            "margin": null,
            "display": null,
            "left": null
          }
        },
        "715fdab430394e64b4e002e3f7e40416": {
          "model_module": "@jupyter-widgets/controls",
          "model_name": "DescriptionStyleModel",
          "state": {
            "_view_name": "StyleView",
            "_model_name": "DescriptionStyleModel",
            "description_width": "",
            "_view_module": "@jupyter-widgets/base",
            "_model_module_version": "1.5.0",
            "_view_count": null,
            "_view_module_version": "1.2.0",
            "_model_module": "@jupyter-widgets/controls"
          }
        },
        "fbb3ca6b4aa64e61a7ed0f1cdc45c62d": {
          "model_module": "@jupyter-widgets/base",
          "model_name": "LayoutModel",
          "state": {
            "_view_name": "LayoutView",
            "grid_template_rows": null,
            "right": null,
            "justify_content": null,
            "_view_module": "@jupyter-widgets/base",
            "overflow": null,
            "_model_module_version": "1.2.0",
            "_view_count": null,
            "flex_flow": null,
            "width": null,
            "min_width": null,
            "border": null,
            "align_items": null,
            "bottom": null,
            "_model_module": "@jupyter-widgets/base",
            "top": null,
            "grid_column": null,
            "overflow_y": null,
            "overflow_x": null,
            "grid_auto_flow": null,
            "grid_area": null,
            "grid_template_columns": null,
            "flex": null,
            "_model_name": "LayoutModel",
            "justify_items": null,
            "grid_row": null,
            "max_height": null,
            "align_content": null,
            "visibility": null,
            "align_self": null,
            "height": null,
            "min_height": null,
            "padding": null,
            "grid_auto_rows": null,
            "grid_gap": null,
            "max_width": null,
            "order": null,
            "_view_module_version": "1.2.0",
            "grid_template_areas": null,
            "object_position": null,
            "object_fit": null,
            "grid_auto_columns": null,
            "margin": null,
            "display": null,
            "left": null
          }
        },
        "ebc149b3945745dea353d6eb1ce415a6": {
          "model_module": "@jupyter-widgets/controls",
          "model_name": "HBoxModel",
          "state": {
            "_view_name": "HBoxView",
            "_dom_classes": [],
            "_model_name": "HBoxModel",
            "_view_module": "@jupyter-widgets/controls",
            "_model_module_version": "1.5.0",
            "_view_count": null,
            "_view_module_version": "1.5.0",
            "box_style": "",
            "layout": "IPY_MODEL_dd3913fbd9434210900eaab6b9355b21",
            "_model_module": "@jupyter-widgets/controls",
            "children": [
              "IPY_MODEL_a20c4dee8cca443ab27c7125145444c7",
              "IPY_MODEL_1352e5a044db44e8bb18d3522b605ace"
            ]
          }
        },
        "dd3913fbd9434210900eaab6b9355b21": {
          "model_module": "@jupyter-widgets/base",
          "model_name": "LayoutModel",
          "state": {
            "_view_name": "LayoutView",
            "grid_template_rows": null,
            "right": null,
            "justify_content": null,
            "_view_module": "@jupyter-widgets/base",
            "overflow": null,
            "_model_module_version": "1.2.0",
            "_view_count": null,
            "flex_flow": null,
            "width": null,
            "min_width": null,
            "border": null,
            "align_items": null,
            "bottom": null,
            "_model_module": "@jupyter-widgets/base",
            "top": null,
            "grid_column": null,
            "overflow_y": null,
            "overflow_x": null,
            "grid_auto_flow": null,
            "grid_area": null,
            "grid_template_columns": null,
            "flex": null,
            "_model_name": "LayoutModel",
            "justify_items": null,
            "grid_row": null,
            "max_height": null,
            "align_content": null,
            "visibility": null,
            "align_self": null,
            "height": null,
            "min_height": null,
            "padding": null,
            "grid_auto_rows": null,
            "grid_gap": null,
            "max_width": null,
            "order": null,
            "_view_module_version": "1.2.0",
            "grid_template_areas": null,
            "object_position": null,
            "object_fit": null,
            "grid_auto_columns": null,
            "margin": null,
            "display": null,
            "left": null
          }
        },
        "a20c4dee8cca443ab27c7125145444c7": {
          "model_module": "@jupyter-widgets/controls",
          "model_name": "FloatProgressModel",
          "state": {
            "_view_name": "ProgressView",
            "style": "IPY_MODEL_3f8d37647c98418387a08427241de705",
            "_dom_classes": [],
            "description": "Downloading: 100%",
            "_model_name": "FloatProgressModel",
            "bar_style": "success",
            "max": 435779157,
            "_view_module": "@jupyter-widgets/controls",
            "_model_module_version": "1.5.0",
            "value": 435779157,
            "_view_count": null,
            "_view_module_version": "1.5.0",
            "orientation": "horizontal",
            "min": 0,
            "description_tooltip": null,
            "_model_module": "@jupyter-widgets/controls",
            "layout": "IPY_MODEL_c3631b4fdda348349cb62770a8b9365f"
          }
        },
        "1352e5a044db44e8bb18d3522b605ace": {
          "model_module": "@jupyter-widgets/controls",
          "model_name": "HTMLModel",
          "state": {
            "_view_name": "HTMLView",
            "style": "IPY_MODEL_358b20c22264471882cfd401dfa95802",
            "_dom_classes": [],
            "description": "",
            "_model_name": "HTMLModel",
            "placeholder": "​",
            "_view_module": "@jupyter-widgets/controls",
            "_model_module_version": "1.5.0",
            "value": " 436M/436M [00:09&lt;00:00, 46.4MB/s]",
            "_view_count": null,
            "_view_module_version": "1.5.0",
            "description_tooltip": null,
            "_model_module": "@jupyter-widgets/controls",
            "layout": "IPY_MODEL_2ebc8dbe5c5544658c1bdc31a066cf2f"
          }
        },
        "3f8d37647c98418387a08427241de705": {
          "model_module": "@jupyter-widgets/controls",
          "model_name": "ProgressStyleModel",
          "state": {
            "_view_name": "StyleView",
            "_model_name": "ProgressStyleModel",
            "description_width": "initial",
            "_view_module": "@jupyter-widgets/base",
            "_model_module_version": "1.5.0",
            "_view_count": null,
            "_view_module_version": "1.2.0",
            "bar_color": null,
            "_model_module": "@jupyter-widgets/controls"
          }
        },
        "c3631b4fdda348349cb62770a8b9365f": {
          "model_module": "@jupyter-widgets/base",
          "model_name": "LayoutModel",
          "state": {
            "_view_name": "LayoutView",
            "grid_template_rows": null,
            "right": null,
            "justify_content": null,
            "_view_module": "@jupyter-widgets/base",
            "overflow": null,
            "_model_module_version": "1.2.0",
            "_view_count": null,
            "flex_flow": null,
            "width": null,
            "min_width": null,
            "border": null,
            "align_items": null,
            "bottom": null,
            "_model_module": "@jupyter-widgets/base",
            "top": null,
            "grid_column": null,
            "overflow_y": null,
            "overflow_x": null,
            "grid_auto_flow": null,
            "grid_area": null,
            "grid_template_columns": null,
            "flex": null,
            "_model_name": "LayoutModel",
            "justify_items": null,
            "grid_row": null,
            "max_height": null,
            "align_content": null,
            "visibility": null,
            "align_self": null,
            "height": null,
            "min_height": null,
            "padding": null,
            "grid_auto_rows": null,
            "grid_gap": null,
            "max_width": null,
            "order": null,
            "_view_module_version": "1.2.0",
            "grid_template_areas": null,
            "object_position": null,
            "object_fit": null,
            "grid_auto_columns": null,
            "margin": null,
            "display": null,
            "left": null
          }
        },
        "358b20c22264471882cfd401dfa95802": {
          "model_module": "@jupyter-widgets/controls",
          "model_name": "DescriptionStyleModel",
          "state": {
            "_view_name": "StyleView",
            "_model_name": "DescriptionStyleModel",
            "description_width": "",
            "_view_module": "@jupyter-widgets/base",
            "_model_module_version": "1.5.0",
            "_view_count": null,
            "_view_module_version": "1.2.0",
            "_model_module": "@jupyter-widgets/controls"
          }
        },
        "2ebc8dbe5c5544658c1bdc31a066cf2f": {
          "model_module": "@jupyter-widgets/base",
          "model_name": "LayoutModel",
          "state": {
            "_view_name": "LayoutView",
            "grid_template_rows": null,
            "right": null,
            "justify_content": null,
            "_view_module": "@jupyter-widgets/base",
            "overflow": null,
            "_model_module_version": "1.2.0",
            "_view_count": null,
            "flex_flow": null,
            "width": null,
            "min_width": null,
            "border": null,
            "align_items": null,
            "bottom": null,
            "_model_module": "@jupyter-widgets/base",
            "top": null,
            "grid_column": null,
            "overflow_y": null,
            "overflow_x": null,
            "grid_auto_flow": null,
            "grid_area": null,
            "grid_template_columns": null,
            "flex": null,
            "_model_name": "LayoutModel",
            "justify_items": null,
            "grid_row": null,
            "max_height": null,
            "align_content": null,
            "visibility": null,
            "align_self": null,
            "height": null,
            "min_height": null,
            "padding": null,
            "grid_auto_rows": null,
            "grid_gap": null,
            "max_width": null,
            "order": null,
            "_view_module_version": "1.2.0",
            "grid_template_areas": null,
            "object_position": null,
            "object_fit": null,
            "grid_auto_columns": null,
            "margin": null,
            "display": null,
            "left": null
          }
        }
      }
    }
  },
  "cells": [
    {
      "cell_type": "markdown",
      "metadata": {
        "id": "q1DsFJpk4nmk"
      },
      "source": [
        "Loading dataset **Conll2003** with four classes: **Per**, **Org**, **Loc** and **Misc** in Conll format."
      ]
    },
    {
      "cell_type": "code",
      "metadata": {
        "colab": {
          "base_uri": "https://localhost:8080/"
        },
        "id": "SiBslWvSRKH0",
        "outputId": "f4af2ddd-09c3-47a6-881a-da21b9d9f6a0"
      },
      "source": [
        "!wget https://raw.githubusercontent.com/synalp/NER/master/corpus/CoNLL-2003/eng.testa\n",
        "!wget https://raw.githubusercontent.com/synalp/NER/master/corpus/CoNLL-2003/eng.train"
      ],
      "execution_count": 1,
      "outputs": [
        {
          "output_type": "stream",
          "text": [
            "--2021-06-05 08:22:43--  https://raw.githubusercontent.com/synalp/NER/master/corpus/CoNLL-2003/eng.testa\n",
            "Resolving raw.githubusercontent.com (raw.githubusercontent.com)... 185.199.108.133, 185.199.109.133, 185.199.110.133, ...\n",
            "Connecting to raw.githubusercontent.com (raw.githubusercontent.com)|185.199.108.133|:443... connected.\n",
            "HTTP request sent, awaiting response... 200 OK\n",
            "Length: 827012 (808K) [text/plain]\n",
            "Saving to: ‘eng.testa’\n",
            "\n",
            "\reng.testa             0%[                    ]       0  --.-KB/s               \reng.testa           100%[===================>] 807.63K  --.-KB/s    in 0.03s   \n",
            "\n",
            "2021-06-05 08:22:43 (23.4 MB/s) - ‘eng.testa’ saved [827012/827012]\n",
            "\n",
            "--2021-06-05 08:22:43--  https://raw.githubusercontent.com/synalp/NER/master/corpus/CoNLL-2003/eng.train\n",
            "Resolving raw.githubusercontent.com (raw.githubusercontent.com)... 185.199.111.133, 185.199.110.133, 185.199.109.133, ...\n",
            "Connecting to raw.githubusercontent.com (raw.githubusercontent.com)|185.199.111.133|:443... connected.\n",
            "HTTP request sent, awaiting response... 200 OK\n",
            "Length: 3281528 (3.1M) [text/plain]\n",
            "Saving to: ‘eng.train’\n",
            "\n",
            "eng.train           100%[===================>]   3.13M  --.-KB/s    in 0.09s   \n",
            "\n",
            "2021-06-05 08:22:44 (34.5 MB/s) - ‘eng.train’ saved [3281528/3281528]\n",
            "\n"
          ],
          "name": "stdout"
        }
      ]
    },
    {
      "cell_type": "code",
      "metadata": {
        "colab": {
          "base_uri": "https://localhost:8080/"
        },
        "id": "Zt8yjpnXR6qL",
        "outputId": "c6ac10cb-ecec-43b0-aba9-7ca2e5e23704"
      },
      "source": [
        "!head eng.train "
      ],
      "execution_count": 2,
      "outputs": [
        {
          "output_type": "stream",
          "text": [
            "-DOCSTART- -X- O O\n",
            "\n",
            "EU NNP I-NP I-ORG\n",
            "rejects VBZ I-VP O\n",
            "German JJ I-NP I-MISC\n",
            "call NN I-NP O\n",
            "to TO I-VP O\n",
            "boycott VB I-VP O\n",
            "British JJ I-NP I-MISC\n",
            "lamb NN I-NP O\n"
          ],
          "name": "stdout"
        }
      ]
    },
    {
      "cell_type": "code",
      "metadata": {
        "colab": {
          "base_uri": "https://localhost:8080/"
        },
        "id": "sDhsFuW_KCU4",
        "outputId": "b0dab38c-4c59-4def-eab6-812b40f10e96"
      },
      "source": [
        "!pip install transformers"
      ],
      "execution_count": 3,
      "outputs": [
        {
          "output_type": "stream",
          "text": [
            "Collecting transformers\n",
            "\u001b[?25l  Downloading https://files.pythonhosted.org/packages/d5/43/cfe4ee779bbd6a678ac6a97c5a5cdeb03c35f9eaebbb9720b036680f9a2d/transformers-4.6.1-py3-none-any.whl (2.2MB)\n",
            "\r\u001b[K     |▏                               | 10kB 23.3MB/s eta 0:00:01\r\u001b[K     |▎                               | 20kB 24.7MB/s eta 0:00:01\r\u001b[K     |▍                               | 30kB 17.1MB/s eta 0:00:01\r\u001b[K     |▋                               | 40kB 14.3MB/s eta 0:00:01\r\u001b[K     |▊                               | 51kB 8.6MB/s eta 0:00:01\r\u001b[K     |▉                               | 61kB 8.4MB/s eta 0:00:01\r\u001b[K     |█                               | 71kB 8.8MB/s eta 0:00:01\r\u001b[K     |█▏                              | 81kB 9.7MB/s eta 0:00:01\r\u001b[K     |█▎                              | 92kB 7.5MB/s eta 0:00:01\r\u001b[K     |█▌                              | 102kB 8.1MB/s eta 0:00:01\r\u001b[K     |█▋                              | 112kB 8.1MB/s eta 0:00:01\r\u001b[K     |█▊                              | 122kB 8.1MB/s eta 0:00:01\r\u001b[K     |██                              | 133kB 8.1MB/s eta 0:00:01\r\u001b[K     |██                              | 143kB 8.1MB/s eta 0:00:01\r\u001b[K     |██▏                             | 153kB 8.1MB/s eta 0:00:01\r\u001b[K     |██▎                             | 163kB 8.1MB/s eta 0:00:01\r\u001b[K     |██▌                             | 174kB 8.1MB/s eta 0:00:01\r\u001b[K     |██▋                             | 184kB 8.1MB/s eta 0:00:01\r\u001b[K     |██▊                             | 194kB 8.1MB/s eta 0:00:01\r\u001b[K     |███                             | 204kB 8.1MB/s eta 0:00:01\r\u001b[K     |███                             | 215kB 8.1MB/s eta 0:00:01\r\u001b[K     |███▏                            | 225kB 8.1MB/s eta 0:00:01\r\u001b[K     |███▍                            | 235kB 8.1MB/s eta 0:00:01\r\u001b[K     |███▌                            | 245kB 8.1MB/s eta 0:00:01\r\u001b[K     |███▋                            | 256kB 8.1MB/s eta 0:00:01\r\u001b[K     |███▉                            | 266kB 8.1MB/s eta 0:00:01\r\u001b[K     |████                            | 276kB 8.1MB/s eta 0:00:01\r\u001b[K     |████                            | 286kB 8.1MB/s eta 0:00:01\r\u001b[K     |████▎                           | 296kB 8.1MB/s eta 0:00:01\r\u001b[K     |████▍                           | 307kB 8.1MB/s eta 0:00:01\r\u001b[K     |████▌                           | 317kB 8.1MB/s eta 0:00:01\r\u001b[K     |████▋                           | 327kB 8.1MB/s eta 0:00:01\r\u001b[K     |████▉                           | 337kB 8.1MB/s eta 0:00:01\r\u001b[K     |█████                           | 348kB 8.1MB/s eta 0:00:01\r\u001b[K     |█████                           | 358kB 8.1MB/s eta 0:00:01\r\u001b[K     |█████▎                          | 368kB 8.1MB/s eta 0:00:01\r\u001b[K     |█████▍                          | 378kB 8.1MB/s eta 0:00:01\r\u001b[K     |█████▌                          | 389kB 8.1MB/s eta 0:00:01\r\u001b[K     |█████▊                          | 399kB 8.1MB/s eta 0:00:01\r\u001b[K     |█████▉                          | 409kB 8.1MB/s eta 0:00:01\r\u001b[K     |██████                          | 419kB 8.1MB/s eta 0:00:01\r\u001b[K     |██████▏                         | 430kB 8.1MB/s eta 0:00:01\r\u001b[K     |██████▎                         | 440kB 8.1MB/s eta 0:00:01\r\u001b[K     |██████▍                         | 450kB 8.1MB/s eta 0:00:01\r\u001b[K     |██████▌                         | 460kB 8.1MB/s eta 0:00:01\r\u001b[K     |██████▊                         | 471kB 8.1MB/s eta 0:00:01\r\u001b[K     |██████▉                         | 481kB 8.1MB/s eta 0:00:01\r\u001b[K     |███████                         | 491kB 8.1MB/s eta 0:00:01\r\u001b[K     |███████▏                        | 501kB 8.1MB/s eta 0:00:01\r\u001b[K     |███████▎                        | 512kB 8.1MB/s eta 0:00:01\r\u001b[K     |███████▍                        | 522kB 8.1MB/s eta 0:00:01\r\u001b[K     |███████▋                        | 532kB 8.1MB/s eta 0:00:01\r\u001b[K     |███████▊                        | 542kB 8.1MB/s eta 0:00:01\r\u001b[K     |███████▉                        | 552kB 8.1MB/s eta 0:00:01\r\u001b[K     |████████                        | 563kB 8.1MB/s eta 0:00:01\r\u001b[K     |████████▏                       | 573kB 8.1MB/s eta 0:00:01\r\u001b[K     |████████▎                       | 583kB 8.1MB/s eta 0:00:01\r\u001b[K     |████████▌                       | 593kB 8.1MB/s eta 0:00:01\r\u001b[K     |████████▋                       | 604kB 8.1MB/s eta 0:00:01\r\u001b[K     |████████▊                       | 614kB 8.1MB/s eta 0:00:01\r\u001b[K     |████████▉                       | 624kB 8.1MB/s eta 0:00:01\r\u001b[K     |█████████                       | 634kB 8.1MB/s eta 0:00:01\r\u001b[K     |█████████▏                      | 645kB 8.1MB/s eta 0:00:01\r\u001b[K     |█████████▎                      | 655kB 8.1MB/s eta 0:00:01\r\u001b[K     |█████████▌                      | 665kB 8.1MB/s eta 0:00:01\r\u001b[K     |█████████▋                      | 675kB 8.1MB/s eta 0:00:01\r\u001b[K     |█████████▊                      | 686kB 8.1MB/s eta 0:00:01\r\u001b[K     |██████████                      | 696kB 8.1MB/s eta 0:00:01\r\u001b[K     |██████████                      | 706kB 8.1MB/s eta 0:00:01\r\u001b[K     |██████████▏                     | 716kB 8.1MB/s eta 0:00:01\r\u001b[K     |██████████▍                     | 727kB 8.1MB/s eta 0:00:01\r\u001b[K     |██████████▌                     | 737kB 8.1MB/s eta 0:00:01\r\u001b[K     |██████████▋                     | 747kB 8.1MB/s eta 0:00:01\r\u001b[K     |██████████▉                     | 757kB 8.1MB/s eta 0:00:01\r\u001b[K     |███████████                     | 768kB 8.1MB/s eta 0:00:01\r\u001b[K     |███████████                     | 778kB 8.1MB/s eta 0:00:01\r\u001b[K     |███████████▏                    | 788kB 8.1MB/s eta 0:00:01\r\u001b[K     |███████████▍                    | 798kB 8.1MB/s eta 0:00:01\r\u001b[K     |███████████▌                    | 808kB 8.1MB/s eta 0:00:01\r\u001b[K     |███████████▋                    | 819kB 8.1MB/s eta 0:00:01\r\u001b[K     |███████████▉                    | 829kB 8.1MB/s eta 0:00:01\r\u001b[K     |████████████                    | 839kB 8.1MB/s eta 0:00:01\r\u001b[K     |████████████                    | 849kB 8.1MB/s eta 0:00:01\r\u001b[K     |████████████▎                   | 860kB 8.1MB/s eta 0:00:01\r\u001b[K     |████████████▍                   | 870kB 8.1MB/s eta 0:00:01\r\u001b[K     |████████████▌                   | 880kB 8.1MB/s eta 0:00:01\r\u001b[K     |████████████▊                   | 890kB 8.1MB/s eta 0:00:01\r\u001b[K     |████████████▉                   | 901kB 8.1MB/s eta 0:00:01\r\u001b[K     |█████████████                   | 911kB 8.1MB/s eta 0:00:01\r\u001b[K     |█████████████                   | 921kB 8.1MB/s eta 0:00:01\r\u001b[K     |█████████████▎                  | 931kB 8.1MB/s eta 0:00:01\r\u001b[K     |█████████████▍                  | 942kB 8.1MB/s eta 0:00:01\r\u001b[K     |█████████████▌                  | 952kB 8.1MB/s eta 0:00:01\r\u001b[K     |█████████████▊                  | 962kB 8.1MB/s eta 0:00:01\r\u001b[K     |█████████████▉                  | 972kB 8.1MB/s eta 0:00:01\r\u001b[K     |██████████████                  | 983kB 8.1MB/s eta 0:00:01\r\u001b[K     |██████████████▏                 | 993kB 8.1MB/s eta 0:00:01\r\u001b[K     |██████████████▎                 | 1.0MB 8.1MB/s eta 0:00:01\r\u001b[K     |██████████████▍                 | 1.0MB 8.1MB/s eta 0:00:01\r\u001b[K     |██████████████▋                 | 1.0MB 8.1MB/s eta 0:00:01\r\u001b[K     |██████████████▊                 | 1.0MB 8.1MB/s eta 0:00:01\r\u001b[K     |██████████████▉                 | 1.0MB 8.1MB/s eta 0:00:01\r\u001b[K     |███████████████                 | 1.1MB 8.1MB/s eta 0:00:01\r\u001b[K     |███████████████▏                | 1.1MB 8.1MB/s eta 0:00:01\r\u001b[K     |███████████████▎                | 1.1MB 8.1MB/s eta 0:00:01\r\u001b[K     |███████████████▍                | 1.1MB 8.1MB/s eta 0:00:01\r\u001b[K     |███████████████▋                | 1.1MB 8.1MB/s eta 0:00:01\r\u001b[K     |███████████████▊                | 1.1MB 8.1MB/s eta 0:00:01\r\u001b[K     |███████████████▉                | 1.1MB 8.1MB/s eta 0:00:01\r\u001b[K     |████████████████                | 1.1MB 8.1MB/s eta 0:00:01\r\u001b[K     |████████████████▏               | 1.1MB 8.1MB/s eta 0:00:01\r\u001b[K     |████████████████▎               | 1.1MB 8.1MB/s eta 0:00:01\r\u001b[K     |████████████████▌               | 1.2MB 8.1MB/s eta 0:00:01\r\u001b[K     |████████████████▋               | 1.2MB 8.1MB/s eta 0:00:01\r\u001b[K     |████████████████▊               | 1.2MB 8.1MB/s eta 0:00:01\r\u001b[K     |█████████████████               | 1.2MB 8.1MB/s eta 0:00:01\r\u001b[K     |█████████████████               | 1.2MB 8.1MB/s eta 0:00:01\r\u001b[K     |█████████████████▏              | 1.2MB 8.1MB/s eta 0:00:01\r\u001b[K     |█████████████████▎              | 1.2MB 8.1MB/s eta 0:00:01\r\u001b[K     |█████████████████▌              | 1.2MB 8.1MB/s eta 0:00:01\r\u001b[K     |█████████████████▋              | 1.2MB 8.1MB/s eta 0:00:01\r\u001b[K     |█████████████████▊              | 1.2MB 8.1MB/s eta 0:00:01\r\u001b[K     |██████████████████              | 1.3MB 8.1MB/s eta 0:00:01\r\u001b[K     |██████████████████              | 1.3MB 8.1MB/s eta 0:00:01\r\u001b[K     |██████████████████▏             | 1.3MB 8.1MB/s eta 0:00:01\r\u001b[K     |██████████████████▍             | 1.3MB 8.1MB/s eta 0:00:01\r\u001b[K     |██████████████████▌             | 1.3MB 8.1MB/s eta 0:00:01\r\u001b[K     |██████████████████▋             | 1.3MB 8.1MB/s eta 0:00:01\r\u001b[K     |██████████████████▉             | 1.3MB 8.1MB/s eta 0:00:01\r\u001b[K     |███████████████████             | 1.3MB 8.1MB/s eta 0:00:01\r\u001b[K     |███████████████████             | 1.3MB 8.1MB/s eta 0:00:01\r\u001b[K     |███████████████████▎            | 1.4MB 8.1MB/s eta 0:00:01\r\u001b[K     |███████████████████▍            | 1.4MB 8.1MB/s eta 0:00:01\r\u001b[K     |███████████████████▌            | 1.4MB 8.1MB/s eta 0:00:01\r\u001b[K     |███████████████████▋            | 1.4MB 8.1MB/s eta 0:00:01\r\u001b[K     |███████████████████▉            | 1.4MB 8.1MB/s eta 0:00:01\r\u001b[K     |████████████████████            | 1.4MB 8.1MB/s eta 0:00:01\r\u001b[K     |████████████████████            | 1.4MB 8.1MB/s eta 0:00:01\r\u001b[K     |████████████████████▎           | 1.4MB 8.1MB/s eta 0:00:01\r\u001b[K     |████████████████████▍           | 1.4MB 8.1MB/s eta 0:00:01\r\u001b[K     |████████████████████▌           | 1.4MB 8.1MB/s eta 0:00:01\r\u001b[K     |████████████████████▊           | 1.5MB 8.1MB/s eta 0:00:01\r\u001b[K     |████████████████████▉           | 1.5MB 8.1MB/s eta 0:00:01\r\u001b[K     |█████████████████████           | 1.5MB 8.1MB/s eta 0:00:01\r\u001b[K     |█████████████████████▏          | 1.5MB 8.1MB/s eta 0:00:01\r\u001b[K     |█████████████████████▎          | 1.5MB 8.1MB/s eta 0:00:01\r\u001b[K     |█████████████████████▍          | 1.5MB 8.1MB/s eta 0:00:01\r\u001b[K     |█████████████████████▋          | 1.5MB 8.1MB/s eta 0:00:01\r\u001b[K     |█████████████████████▊          | 1.5MB 8.1MB/s eta 0:00:01\r\u001b[K     |█████████████████████▉          | 1.5MB 8.1MB/s eta 0:00:01\r\u001b[K     |██████████████████████          | 1.5MB 8.1MB/s eta 0:00:01\r\u001b[K     |██████████████████████▏         | 1.6MB 8.1MB/s eta 0:00:01\r\u001b[K     |██████████████████████▎         | 1.6MB 8.1MB/s eta 0:00:01\r\u001b[K     |██████████████████████▍         | 1.6MB 8.1MB/s eta 0:00:01\r\u001b[K     |██████████████████████▋         | 1.6MB 8.1MB/s eta 0:00:01\r\u001b[K     |██████████████████████▊         | 1.6MB 8.1MB/s eta 0:00:01\r\u001b[K     |██████████████████████▉         | 1.6MB 8.1MB/s eta 0:00:01\r\u001b[K     |███████████████████████         | 1.6MB 8.1MB/s eta 0:00:01\r\u001b[K     |███████████████████████▏        | 1.6MB 8.1MB/s eta 0:00:01\r\u001b[K     |███████████████████████▎        | 1.6MB 8.1MB/s eta 0:00:01\r\u001b[K     |███████████████████████▌        | 1.6MB 8.1MB/s eta 0:00:01\r\u001b[K     |███████████████████████▋        | 1.7MB 8.1MB/s eta 0:00:01\r\u001b[K     |███████████████████████▊        | 1.7MB 8.1MB/s eta 0:00:01\r\u001b[K     |███████████████████████▉        | 1.7MB 8.1MB/s eta 0:00:01\r\u001b[K     |████████████████████████        | 1.7MB 8.1MB/s eta 0:00:01\r\u001b[K     |████████████████████████▏       | 1.7MB 8.1MB/s eta 0:00:01\r\u001b[K     |████████████████████████▎       | 1.7MB 8.1MB/s eta 0:00:01\r\u001b[K     |████████████████████████▌       | 1.7MB 8.1MB/s eta 0:00:01\r\u001b[K     |████████████████████████▋       | 1.7MB 8.1MB/s eta 0:00:01\r\u001b[K     |████████████████████████▊       | 1.7MB 8.1MB/s eta 0:00:01\r\u001b[K     |█████████████████████████       | 1.8MB 8.1MB/s eta 0:00:01\r\u001b[K     |█████████████████████████       | 1.8MB 8.1MB/s eta 0:00:01\r\u001b[K     |█████████████████████████▏      | 1.8MB 8.1MB/s eta 0:00:01\r\u001b[K     |█████████████████████████▍      | 1.8MB 8.1MB/s eta 0:00:01\r\u001b[K     |█████████████████████████▌      | 1.8MB 8.1MB/s eta 0:00:01\r\u001b[K     |█████████████████████████▋      | 1.8MB 8.1MB/s eta 0:00:01\r\u001b[K     |█████████████████████████▉      | 1.8MB 8.1MB/s eta 0:00:01\r\u001b[K     |██████████████████████████      | 1.8MB 8.1MB/s eta 0:00:01\r\u001b[K     |██████████████████████████      | 1.8MB 8.1MB/s eta 0:00:01\r\u001b[K     |██████████████████████████▏     | 1.8MB 8.1MB/s eta 0:00:01\r\u001b[K     |██████████████████████████▍     | 1.9MB 8.1MB/s eta 0:00:01\r\u001b[K     |██████████████████████████▌     | 1.9MB 8.1MB/s eta 0:00:01\r\u001b[K     |██████████████████████████▋     | 1.9MB 8.1MB/s eta 0:00:01\r\u001b[K     |██████████████████████████▉     | 1.9MB 8.1MB/s eta 0:00:01\r\u001b[K     |███████████████████████████     | 1.9MB 8.1MB/s eta 0:00:01\r\u001b[K     |███████████████████████████     | 1.9MB 8.1MB/s eta 0:00:01\r\u001b[K     |███████████████████████████▎    | 1.9MB 8.1MB/s eta 0:00:01\r\u001b[K     |███████████████████████████▍    | 1.9MB 8.1MB/s eta 0:00:01\r\u001b[K     |███████████████████████████▌    | 1.9MB 8.1MB/s eta 0:00:01\r\u001b[K     |███████████████████████████▊    | 1.9MB 8.1MB/s eta 0:00:01\r\u001b[K     |███████████████████████████▉    | 2.0MB 8.1MB/s eta 0:00:01\r\u001b[K     |████████████████████████████    | 2.0MB 8.1MB/s eta 0:00:01\r\u001b[K     |████████████████████████████▏   | 2.0MB 8.1MB/s eta 0:00:01\r\u001b[K     |████████████████████████████▎   | 2.0MB 8.1MB/s eta 0:00:01\r\u001b[K     |████████████████████████████▍   | 2.0MB 8.1MB/s eta 0:00:01\r\u001b[K     |████████████████████████████▌   | 2.0MB 8.1MB/s eta 0:00:01\r\u001b[K     |████████████████████████████▊   | 2.0MB 8.1MB/s eta 0:00:01\r\u001b[K     |████████████████████████████▉   | 2.0MB 8.1MB/s eta 0:00:01\r\u001b[K     |█████████████████████████████   | 2.0MB 8.1MB/s eta 0:00:01\r\u001b[K     |█████████████████████████████▏  | 2.0MB 8.1MB/s eta 0:00:01\r\u001b[K     |█████████████████████████████▎  | 2.1MB 8.1MB/s eta 0:00:01\r\u001b[K     |█████████████████████████████▍  | 2.1MB 8.1MB/s eta 0:00:01\r\u001b[K     |█████████████████████████████▋  | 2.1MB 8.1MB/s eta 0:00:01\r\u001b[K     |█████████████████████████████▊  | 2.1MB 8.1MB/s eta 0:00:01\r\u001b[K     |█████████████████████████████▉  | 2.1MB 8.1MB/s eta 0:00:01\r\u001b[K     |██████████████████████████████  | 2.1MB 8.1MB/s eta 0:00:01\r\u001b[K     |██████████████████████████████▏ | 2.1MB 8.1MB/s eta 0:00:01\r\u001b[K     |██████████████████████████████▎ | 2.1MB 8.1MB/s eta 0:00:01\r\u001b[K     |██████████████████████████████▍ | 2.1MB 8.1MB/s eta 0:00:01\r\u001b[K     |██████████████████████████████▋ | 2.2MB 8.1MB/s eta 0:00:01\r\u001b[K     |██████████████████████████████▊ | 2.2MB 8.1MB/s eta 0:00:01\r\u001b[K     |██████████████████████████████▉ | 2.2MB 8.1MB/s eta 0:00:01\r\u001b[K     |███████████████████████████████ | 2.2MB 8.1MB/s eta 0:00:01\r\u001b[K     |███████████████████████████████▏| 2.2MB 8.1MB/s eta 0:00:01\r\u001b[K     |███████████████████████████████▎| 2.2MB 8.1MB/s eta 0:00:01\r\u001b[K     |███████████████████████████████▌| 2.2MB 8.1MB/s eta 0:00:01\r\u001b[K     |███████████████████████████████▋| 2.2MB 8.1MB/s eta 0:00:01\r\u001b[K     |███████████████████████████████▊| 2.2MB 8.1MB/s eta 0:00:01\r\u001b[K     |████████████████████████████████| 2.2MB 8.1MB/s eta 0:00:01\r\u001b[K     |████████████████████████████████| 2.3MB 8.1MB/s \n",
            "\u001b[?25hCollecting huggingface-hub==0.0.8\n",
            "  Downloading https://files.pythonhosted.org/packages/a1/88/7b1e45720ecf59c6c6737ff332f41c955963090a18e72acbcbeac6b25e86/huggingface_hub-0.0.8-py3-none-any.whl\n",
            "Requirement already satisfied: requests in /usr/local/lib/python3.7/dist-packages (from transformers) (2.23.0)\n",
            "Collecting sacremoses\n",
            "\u001b[?25l  Downloading https://files.pythonhosted.org/packages/75/ee/67241dc87f266093c533a2d4d3d69438e57d7a90abb216fa076e7d475d4a/sacremoses-0.0.45-py3-none-any.whl (895kB)\n",
            "\u001b[K     |████████████████████████████████| 901kB 47.7MB/s \n",
            "\u001b[?25hRequirement already satisfied: importlib-metadata; python_version < \"3.8\" in /usr/local/lib/python3.7/dist-packages (from transformers) (4.0.1)\n",
            "Requirement already satisfied: numpy>=1.17 in /usr/local/lib/python3.7/dist-packages (from transformers) (1.19.5)\n",
            "Requirement already satisfied: tqdm>=4.27 in /usr/local/lib/python3.7/dist-packages (from transformers) (4.41.1)\n",
            "Collecting tokenizers<0.11,>=0.10.1\n",
            "\u001b[?25l  Downloading https://files.pythonhosted.org/packages/d4/e2/df3543e8ffdab68f5acc73f613de9c2b155ac47f162e725dcac87c521c11/tokenizers-0.10.3-cp37-cp37m-manylinux_2_5_x86_64.manylinux1_x86_64.manylinux_2_12_x86_64.manylinux2010_x86_64.whl (3.3MB)\n",
            "\u001b[K     |████████████████████████████████| 3.3MB 45.9MB/s \n",
            "\u001b[?25hRequirement already satisfied: regex!=2019.12.17 in /usr/local/lib/python3.7/dist-packages (from transformers) (2019.12.20)\n",
            "Requirement already satisfied: packaging in /usr/local/lib/python3.7/dist-packages (from transformers) (20.9)\n",
            "Requirement already satisfied: filelock in /usr/local/lib/python3.7/dist-packages (from transformers) (3.0.12)\n",
            "Requirement already satisfied: certifi>=2017.4.17 in /usr/local/lib/python3.7/dist-packages (from requests->transformers) (2020.12.5)\n",
            "Requirement already satisfied: urllib3!=1.25.0,!=1.25.1,<1.26,>=1.21.1 in /usr/local/lib/python3.7/dist-packages (from requests->transformers) (1.24.3)\n",
            "Requirement already satisfied: chardet<4,>=3.0.2 in /usr/local/lib/python3.7/dist-packages (from requests->transformers) (3.0.4)\n",
            "Requirement already satisfied: idna<3,>=2.5 in /usr/local/lib/python3.7/dist-packages (from requests->transformers) (2.10)\n",
            "Requirement already satisfied: six in /usr/local/lib/python3.7/dist-packages (from sacremoses->transformers) (1.15.0)\n",
            "Requirement already satisfied: joblib in /usr/local/lib/python3.7/dist-packages (from sacremoses->transformers) (1.0.1)\n",
            "Requirement already satisfied: click in /usr/local/lib/python3.7/dist-packages (from sacremoses->transformers) (7.1.2)\n",
            "Requirement already satisfied: zipp>=0.5 in /usr/local/lib/python3.7/dist-packages (from importlib-metadata; python_version < \"3.8\"->transformers) (3.4.1)\n",
            "Requirement already satisfied: typing-extensions>=3.6.4; python_version < \"3.8\" in /usr/local/lib/python3.7/dist-packages (from importlib-metadata; python_version < \"3.8\"->transformers) (3.7.4.3)\n",
            "Requirement already satisfied: pyparsing>=2.0.2 in /usr/local/lib/python3.7/dist-packages (from packaging->transformers) (2.4.7)\n",
            "Installing collected packages: huggingface-hub, sacremoses, tokenizers, transformers\n",
            "Successfully installed huggingface-hub-0.0.8 sacremoses-0.0.45 tokenizers-0.10.3 transformers-4.6.1\n"
          ],
          "name": "stdout"
        }
      ]
    },
    {
      "cell_type": "code",
      "metadata": {
        "id": "tZi5GT-1BoSM",
        "colab": {
          "base_uri": "https://localhost:8080/"
        },
        "outputId": "5093277f-1657-4c7d-8484-57678b0ea2fc"
      },
      "source": [
        "!pip -q install seqeval"
      ],
      "execution_count": 4,
      "outputs": [
        {
          "output_type": "stream",
          "text": [
            "\u001b[?25l\r\u001b[K     |███████▌                        | 10kB 23.6MB/s eta 0:00:01\r\u001b[K     |███████████████                 | 20kB 18.1MB/s eta 0:00:01\r\u001b[K     |██████████████████████▌         | 30kB 14.8MB/s eta 0:00:01\r\u001b[K     |██████████████████████████████  | 40kB 13.6MB/s eta 0:00:01\r\u001b[K     |████████████████████████████████| 51kB 4.7MB/s \n",
            "\u001b[?25h  Building wheel for seqeval (setup.py) ... \u001b[?25l\u001b[?25hdone\n"
          ],
          "name": "stdout"
        }
      ]
    },
    {
      "cell_type": "markdown",
      "metadata": {
        "id": "HOU2OAh66pVt"
      },
      "source": [
        "Loading the required libraries"
      ]
    },
    {
      "cell_type": "code",
      "metadata": {
        "id": "61Q6EAQsXMgf"
      },
      "source": [
        "from torch.utils.data import Dataset, DataLoader\n",
        "from typing import List\n",
        "from collections import Counter\n",
        "import matplotlib.pyplot as plt\n",
        "from tqdm import tqdm\n",
        "from torch import nn\n",
        "import torch\n",
        "from sklearn.metrics import classification_report\n",
        "import numpy as np\n",
        "import itertools\n",
        "\n",
        "from transformers import BertTokenizer\n",
        "\n",
        "from seqeval.metrics import f1_score\n",
        "from seqeval.metrics import accuracy_score\n",
        "\n",
        "from transformers import BertForTokenClassification, AdamW\n",
        "\n",
        "import warnings\n",
        "warnings.filterwarnings('ignore')"
      ],
      "execution_count": 5,
      "outputs": []
    },
    {
      "cell_type": "markdown",
      "metadata": {
        "id": "r0NgUH4B7Ris"
      },
      "source": [
        "Defining methods for data preprocessing and visualization"
      ]
    },
    {
      "cell_type": "code",
      "metadata": {
        "id": "HUVbuWYaT1YI"
      },
      "source": [
        "def read_data(file):\n",
        "  lines = open(file, \"r\").readlines()\n",
        "  data = {\"sentences\": [], \"labels_per_sent\": []}\n",
        "  sentence, labels = [], []\n",
        "  for line in tqdm(lines):\n",
        "    line = line.strip()\n",
        "    if not line:\n",
        "      if sentence and labels:\n",
        "        assert len(sentence) == len(labels)\n",
        "        data[\"sentences\"].append(sentence)\n",
        "        data[\"labels_per_sent\"].append(labels)\n",
        "        sentence, labels = [], []\n",
        "      continue\n",
        "    if line.startswith(\"-DOCSTART-\"):\n",
        "      continue\n",
        "    else:\n",
        "      values = line.split(\" \")\n",
        "      try:\n",
        "        token, _, _, label = values\n",
        "        sentence.append(token)\n",
        "        if label != 'O':\n",
        "          labels.append(label.split('-')[-1])\n",
        "        else:\n",
        "          labels.append(label)\n",
        "\n",
        "      except Exception as e:\n",
        "        print(f\"Error has occur: {e}\")\n",
        "        continue\n",
        "  return data\n",
        "\n",
        "\n",
        "def get_label_distribution(labels: List[List[str]]):\n",
        "  labels = [label for labels_per_sent in labels for label in labels_per_sent]\n",
        "  return Counter(labels)\n",
        "\n",
        "\n",
        "def visualize_distr(data: Counter):\n",
        "  values = [y for y in sorted(data.values(), reverse=True)]\n",
        "  labels = list(itertools.chain.from_iterable([[x for (x, y) in data.items() if y==value] for value in values]))\n",
        "  plt.bar(x=labels, height=values)\n",
        "  plt.grid(True)\n",
        "  plt.show()"
      ],
      "execution_count": 6,
      "outputs": []
    },
    {
      "cell_type": "markdown",
      "metadata": {
        "id": "gkphjjJ_7zTv"
      },
      "source": [
        "Simple data analysis"
      ]
    },
    {
      "cell_type": "code",
      "metadata": {
        "colab": {
          "base_uri": "https://localhost:8080/"
        },
        "id": "Lf5eygz87Jm8",
        "outputId": "cf2bcef7-3b26-4e42-ccce-d291e8313a62"
      },
      "source": [
        "train = read_data(\"eng.train\")\n",
        "valid = read_data(\"eng.testa\")"
      ],
      "execution_count": 7,
      "outputs": [
        {
          "output_type": "stream",
          "text": [
            "100%|██████████| 219554/219554 [00:00<00:00, 609132.14it/s]\n",
            "100%|██████████| 55045/55045 [00:00<00:00, 944608.18it/s]\n"
          ],
          "name": "stderr"
        }
      ]
    },
    {
      "cell_type": "code",
      "metadata": {
        "colab": {
          "base_uri": "https://localhost:8080/"
        },
        "id": "O1lyVFf4Uvn2",
        "outputId": "77a05946-91dd-4dcf-b452-dedbc04c49df"
      },
      "source": [
        "train[\"sentences\"][0], train[\"labels_per_sent\"][0]"
      ],
      "execution_count": 8,
      "outputs": [
        {
          "output_type": "execute_result",
          "data": {
            "text/plain": [
              "(['EU', 'rejects', 'German', 'call', 'to', 'boycott', 'British', 'lamb', '.'],\n",
              " ['ORG', 'O', 'MISC', 'O', 'O', 'O', 'MISC', 'O', 'O'])"
            ]
          },
          "metadata": {
            "tags": []
          },
          "execution_count": 8
        }
      ]
    },
    {
      "cell_type": "code",
      "metadata": {
        "colab": {
          "base_uri": "https://localhost:8080/"
        },
        "id": "fJDxtTCEXL-x",
        "outputId": "8681dfda-8caa-47d3-d3e7-8890fdc0680f"
      },
      "source": [
        "valid[\"sentences\"][0], valid[\"labels_per_sent\"][0]"
      ],
      "execution_count": 9,
      "outputs": [
        {
          "output_type": "execute_result",
          "data": {
            "text/plain": [
              "(['CRICKET',\n",
              "  '-',\n",
              "  'LEICESTERSHIRE',\n",
              "  'TAKE',\n",
              "  'OVER',\n",
              "  'AT',\n",
              "  'TOP',\n",
              "  'AFTER',\n",
              "  'INNINGS',\n",
              "  'VICTORY',\n",
              "  '.'],\n",
              " ['O', 'O', 'ORG', 'O', 'O', 'O', 'O', 'O', 'O', 'O', 'O'])"
            ]
          },
          "metadata": {
            "tags": []
          },
          "execution_count": 9
        }
      ]
    },
    {
      "cell_type": "code",
      "metadata": {
        "id": "QL5KBeDUan66"
      },
      "source": [
        "train_distribution = get_label_distribution(train[\"labels_per_sent\"])\n",
        "valid_distribution = get_label_distribution(valid[\"labels_per_sent\"])"
      ],
      "execution_count": 10,
      "outputs": []
    },
    {
      "cell_type": "code",
      "metadata": {
        "colab": {
          "base_uri": "https://localhost:8080/",
          "height": 547
        },
        "id": "Ma7HHMQua3L8",
        "outputId": "f3dd39fb-fb03-40a6-9193-f53ba96eb932"
      },
      "source": [
        "print(\"Train distribution\")\n",
        "visualize_distr(train_distribution)\n",
        "print(\"Valid distribution\")\n",
        "visualize_distr(valid_distribution)"
      ],
      "execution_count": 11,
      "outputs": [
        {
          "output_type": "stream",
          "text": [
            "Train distribution\n"
          ],
          "name": "stdout"
        },
        {
          "output_type": "display_data",
          "data": {
            "image/png": "[encoded data removed]",
            "text/plain": [
              "<Figure size 432x288 with 1 Axes>"
            ]
          },
          "metadata": {
            "tags": [],
            "needs_background": "light"
          }
        },
        {
          "output_type": "stream",
          "text": [
            "Valid distribution\n"
          ],
          "name": "stdout"
        },
        {
          "output_type": "display_data",
          "data": {
            "image/png": "[encoded data removed]",
            "text/plain": [
              "<Figure size 432x288 with 1 Axes>"
            ]
          },
          "metadata": {
            "tags": [],
            "needs_background": "light"
          }
        }
      ]
    },
    {
      "cell_type": "markdown",
      "metadata": {
        "id": "uDRApCw577-h"
      },
      "source": [
        "Defining class for a map-style dataset"
      ]
    },
    {
      "cell_type": "code",
      "metadata": {
        "id": "tlO1AWxXYPVl"
      },
      "source": [
        "class NERDataset(Dataset):\n",
        "\n",
        "  def __init__(self, data):\n",
        "    self.sentence = data['sentences']\n",
        "    self.labels = data['labels_per_sent']\n",
        "\n",
        "  def __getitem__(self, index):\n",
        "    return {'sentence': self.sentence[index], \n",
        "            'labels': self.labels[index]}\n",
        "\n",
        "  def __len__(self):\n",
        "    return len(self.labels)\n",
        "\n",
        "train_dataset = NERDataset(train)\n",
        "valid_dataset = NERDataset(valid)"
      ],
      "execution_count": 12,
      "outputs": []
    },
    {
      "cell_type": "code",
      "metadata": {
        "id": "WPjUPwd6NirM"
      },
      "source": [
        "tag2idx = {'PAD': 0, 'LOC': 1, 'MISC': 2, 'O': 3, 'ORG': 4, 'PER': 5}"
      ],
      "execution_count": 13,
      "outputs": []
    },
    {
      "cell_type": "code",
      "metadata": {
        "id": "-vxBkvS_S7lM",
        "colab": {
          "base_uri": "https://localhost:8080/",
          "height": 164,
          "referenced_widgets": [
            "50b2bd6a475c40968cfaf2ba091da61d",
            "8430146162344ca1aa797cacef730237",
            "ac4009b3f764409190842d6c01f7880c",
            "44e8ad6e45be4e218cb6196dad2d7085",
            "55608cc839844c88b8316ccc8fa655eb",
            "3acfc04ac92d4c268ef1e032111e77df",
            "2afd2c6aca5449e1921d4465e9f77eb5",
            "17f7a465bfc746399511eff39bdfd78d",
            "b5a5c629a1bf4fccae4e63dbfede7547",
            "14cb112c7d1641dcbb78bd664eb8317b",
            "ced226e532c64dab8583ff76bef7d3f7",
            "1a81cc67c86b44b68cb521d894a053e5",
            "7019cb6cbd3247009249ea6df10056c3",
            "d6aefe313df14f68bc5905c1aa9bc1b1",
            "bbc8a3f79e13457d91d1aa88ab700490",
            "65c0f52e6fb448d8a81d8b32774f746f",
            "4e68e51af7644891a2600abacf764dbb",
            "9f57e12903bb4c4ebd9ff885901da6b3",
            "e8d26d41aa364f0ebd2d0c13b02f7d35",
            "db96f9dd4394467ba32af4a91256bb2f",
            "86607c39345946339ec93ba2be7a062f",
            "c5e8fba701624e1c8b032a7c3b0ed0fa",
            "17fa7050b19c4f5cb9d83380fb3fd5be",
            "ebbc787f9abf41eb878773e4cc24ce14"
          ]
        },
        "outputId": "f3a89121-598f-4f8a-9b39-dc4830f33f02"
      },
      "source": [
        "tokenizer = BertTokenizer.from_pretrained('bert-base-cased', do_lower_case=False)"
      ],
      "execution_count": 14,
      "outputs": [
        {
          "output_type": "display_data",
          "data": {
            "application/vnd.jupyter.widget-view+json": {
              "model_id": "50b2bd6a475c40968cfaf2ba091da61d",
              "version_minor": 0,
              "version_major": 2
            },
            "text/plain": [
              "HBox(children=(FloatProgress(value=0.0, description='Downloading', max=213450.0, style=ProgressStyle(descripti…"
            ]
          },
          "metadata": {
            "tags": []
          }
        },
        {
          "output_type": "stream",
          "text": [
            "\n"
          ],
          "name": "stdout"
        },
        {
          "output_type": "display_data",
          "data": {
            "application/vnd.jupyter.widget-view+json": {
              "model_id": "b5a5c629a1bf4fccae4e63dbfede7547",
              "version_minor": 0,
              "version_major": 2
            },
            "text/plain": [
              "HBox(children=(FloatProgress(value=0.0, description='Downloading', max=29.0, style=ProgressStyle(description_w…"
            ]
          },
          "metadata": {
            "tags": []
          }
        },
        {
          "output_type": "stream",
          "text": [
            "\n"
          ],
          "name": "stdout"
        },
        {
          "output_type": "display_data",
          "data": {
            "application/vnd.jupyter.widget-view+json": {
              "model_id": "4e68e51af7644891a2600abacf764dbb",
              "version_minor": 0,
              "version_major": 2
            },
            "text/plain": [
              "HBox(children=(FloatProgress(value=0.0, description='Downloading', max=435797.0, style=ProgressStyle(descripti…"
            ]
          },
          "metadata": {
            "tags": []
          }
        },
        {
          "output_type": "stream",
          "text": [
            "\n"
          ],
          "name": "stdout"
        }
      ]
    },
    {
      "cell_type": "markdown",
      "metadata": {
        "id": "V77SsIDA9sCP"
      },
      "source": [
        "Defining helper functions to process data before submitting them for training, validation and testing."
      ]
    },
    {
      "cell_type": "code",
      "metadata": {
        "id": "N7I6C4pYgyPc"
      },
      "source": [
        "def tokenize_and_preserve_labels(sentence, text_labels):\n",
        "    \"\"\" from https://www.depends-on-the-definition.com/named-entity-recognition-with-bert/ \"\"\"\n",
        "    tokenized_sentence = []\n",
        "    labels = []\n",
        "\n",
        "    for word, label in zip(sentence, text_labels):\n",
        "\n",
        "        tokenized_word = tokenizer.tokenize(word)\n",
        "        n_subwords = len(tokenized_word)\n",
        "\n",
        "        tokenized_sentence.extend(tokenized_word)\n",
        "\n",
        "        labels.extend([label] * n_subwords)\n",
        "\n",
        "    return tokenized_sentence, labels\n",
        "\n",
        "\n",
        "def labels_to_idx(labels):\n",
        "    return list(itertools.chain.from_iterable([[0], [tag2idx[i] for i in labels], [0]]))\n",
        "\n",
        "\n",
        "def get_padded(values):\n",
        "    max_len = 0\n",
        "    for value in values:\n",
        "        if len(value) > max_len:\n",
        "            max_len = len(value)\n",
        "\n",
        "    padded = np.array([value + [0]*(max_len-len(value)) for value in values])\n",
        "\n",
        "    return padded\n",
        "\n",
        "\n",
        "def collate_fn(batch):\n",
        "    inp = []\n",
        "    labels = []\n",
        "    for elem in batch:\n",
        "        tokenized_inputs, lbls = tokenize_and_preserve_labels(elem['sentence'], elem['labels'])\n",
        "        inp.append(tokenizer.encode_plus(tokenized_inputs, \n",
        "                                         None, \n",
        "                                         add_special_tokens=True, \n",
        "                                         return_token_type_ids=False)['input_ids'])\n",
        "        labels.append(labels_to_idx(lbls))\n",
        "\n",
        "    inputs = get_padded(inp) \n",
        "    labels = get_padded(labels)\n",
        "    attention_mask = get_padded([[1 for i in elem] for elem in inp]) \n",
        "\n",
        "    return {\"inputs\": torch.tensor(inputs), \"labels\": torch.LongTensor(labels), 'attention_mask': torch.tensor(attention_mask)}\n",
        "\n",
        "\n",
        "def transform_logits(predictions: torch.tensor):\n",
        "  predictions = predictions.tolist()\n",
        "  logits2idx = []\n",
        "  logits2idx.extend([list(p) for p in np.argmax(predictions, axis=2)])\n",
        "  transformed_logits = []\n",
        "  for elem in logits2idx:\n",
        "    transformed_logits.append(list(itertools.chain.from_iterable([[key for (key, value) in tag2idx.items() if value==i] for i in elem]))[1:])\n",
        "  return transformed_logits\n",
        "\n",
        "\n",
        "def transform_target(target_labels: torch.tensor):\n",
        "  target_labels = target_labels.tolist()\n",
        "  transformed_target = []\n",
        "  for elem in target_labels:\n",
        "    transformed_target.append(list(itertools.chain.from_iterable([[key for (key, value) in tag2idx.items() if value==i] for i in elem]))[1:])\n",
        "  return transformed_target\n",
        "\n",
        "\n",
        "def count_metrics(gold_labels_per_sentence: List[List[str]], predict_labels_per_sentence: List[List[str]]):\n",
        "  gold_labels = [l for l_per_sent in gold_labels_per_sentence for l in l_per_sent]\n",
        "  predict_labels = [l for l_per_sent in predict_labels_per_sentence for l in l_per_sent]\n",
        "  print(classification_report(gold_labels, predict_labels))\n",
        "\n",
        "\n",
        "def predict_preprocessing(gold_labels: List[str], predicted_labels: List[str]):\n",
        "  processed_predict = []\n",
        "  for i in range(len(gold_labels)):\n",
        "    sent_len = len(gold_labels[i])\n",
        "    processed_predict.append(predicted_labels[i][:sent_len])\n",
        "  return processed_predict"
      ],
      "execution_count": 15,
      "outputs": []
    },
    {
      "cell_type": "code",
      "metadata": {
        "id": "7oRMRFr0c2Nb"
      },
      "source": [
        "train_dataloader = DataLoader(train_dataset, batch_size=32, shuffle=True, collate_fn=collate_fn)\n",
        "valid_dataloader = DataLoader(valid_dataset, batch_size=32, shuffle=True, collate_fn=collate_fn)"
      ],
      "execution_count": 16,
      "outputs": []
    },
    {
      "cell_type": "markdown",
      "metadata": {
        "id": "qjDJXYC_AWRJ"
      },
      "source": [
        "Loading pre-trained BertForTokenClassification model"
      ]
    },
    {
      "cell_type": "code",
      "metadata": {
        "colab": {
          "base_uri": "https://localhost:8080/",
          "height": 220,
          "referenced_widgets": [
            "776dbf2696f84b4e801f95ee905e5622",
            "cccfa05291694ca1b2eead6ecb772f79",
            "a4fcb40adf6448cd83d32b50bb74a39c",
            "ef151fe7ba0541ea8f58a3ded89c8253",
            "180421c18fb8439aabf5988bf1ffbfd1",
            "d471c31302af4f86a9a4cda2df994bd7",
            "715fdab430394e64b4e002e3f7e40416",
            "fbb3ca6b4aa64e61a7ed0f1cdc45c62d",
            "ebc149b3945745dea353d6eb1ce415a6",
            "dd3913fbd9434210900eaab6b9355b21",
            "a20c4dee8cca443ab27c7125145444c7",
            "1352e5a044db44e8bb18d3522b605ace",
            "3f8d37647c98418387a08427241de705",
            "c3631b4fdda348349cb62770a8b9365f",
            "358b20c22264471882cfd401dfa95802",
            "2ebc8dbe5c5544658c1bdc31a066cf2f"
          ]
        },
        "id": "k1Zc4sWA4xfR",
        "outputId": "b287a54e-192a-4149-b0bb-9a6c7217c01b"
      },
      "source": [
        "pretrained_model = BertForTokenClassification.from_pretrained( \"bert-base-cased\",\n",
        "                                                               num_labels=len(tag2idx),\n",
        "                                                               output_attentions = False,\n",
        "                                                               output_hidden_states = False)"
      ],
      "execution_count": 17,
      "outputs": [
        {
          "output_type": "display_data",
          "data": {
            "application/vnd.jupyter.widget-view+json": {
              "model_id": "776dbf2696f84b4e801f95ee905e5622",
              "version_minor": 0,
              "version_major": 2
            },
            "text/plain": [
              "HBox(children=(FloatProgress(value=0.0, description='Downloading', max=570.0, style=ProgressStyle(description_…"
            ]
          },
          "metadata": {
            "tags": []
          }
        },
        {
          "output_type": "stream",
          "text": [
            "\n"
          ],
          "name": "stdout"
        },
        {
          "output_type": "display_data",
          "data": {
            "application/vnd.jupyter.widget-view+json": {
              "model_id": "ebc149b3945745dea353d6eb1ce415a6",
              "version_minor": 0,
              "version_major": 2
            },
            "text/plain": [
              "HBox(children=(FloatProgress(value=0.0, description='Downloading', max=435779157.0, style=ProgressStyle(descri…"
            ]
          },
          "metadata": {
            "tags": []
          }
        },
        {
          "output_type": "stream",
          "text": [
            "\n"
          ],
          "name": "stdout"
        },
        {
          "output_type": "stream",
          "text": [
            "Some weights of the model checkpoint at bert-base-cased were not used when initializing BertForTokenClassification: ['cls.predictions.transform.dense.bias', 'cls.predictions.transform.LayerNorm.bias', 'cls.seq_relationship.bias', 'cls.predictions.decoder.weight', 'cls.seq_relationship.weight', 'cls.predictions.transform.dense.weight', 'cls.predictions.transform.LayerNorm.weight', 'cls.predictions.bias']\n",
            "- This IS expected if you are initializing BertForTokenClassification from the checkpoint of a model trained on another task or with another architecture (e.g. initializing a BertForSequenceClassification model from a BertForPreTraining model).\n",
            "- This IS NOT expected if you are initializing BertForTokenClassification from the checkpoint of a model that you expect to be exactly identical (initializing a BertForSequenceClassification model from a BertForSequenceClassification model).\n",
            "Some weights of BertForTokenClassification were not initialized from the model checkpoint at bert-base-cased and are newly initialized: ['classifier.weight', 'classifier.bias']\n",
            "You should probably TRAIN this model on a down-stream task to be able to use it for predictions and inference.\n"
          ],
          "name": "stderr"
        }
      ]
    },
    {
      "cell_type": "markdown",
      "metadata": {
        "id": "-KWXuiOpAqPt"
      },
      "source": [
        "Defining class of simple NERmodel with pre-trained BertForTokenClassification inside."
      ]
    },
    {
      "cell_type": "code",
      "metadata": {
        "id": "Kv-cKwqnde3E"
      },
      "source": [
        "class NERModel(nn.Module):\n",
        "\n",
        "  def __init__(self, pretrained_model):\n",
        "    super().__init__()\n",
        "    \n",
        "    self.bert = pretrained_model\n",
        "\n",
        "  def forward(self, inputs, attention_mask=None, labels=None, token_type_ids=None):\n",
        "    outputs = self.bert(inputs,\n",
        "                        token_type_ids=token_type_ids,\n",
        "                        attention_mask=attention_mask,\n",
        "                        labels=labels)\n",
        "\n",
        "    return outputs"
      ],
      "execution_count": 18,
      "outputs": []
    },
    {
      "cell_type": "code",
      "metadata": {
        "id": "W-Y8I1iReYxv"
      },
      "source": [
        "device = \"cuda:0\""
      ],
      "execution_count": 19,
      "outputs": []
    },
    {
      "cell_type": "code",
      "metadata": {
        "id": "__G8sNO0eGfp"
      },
      "source": [
        "model = NERModel(pretrained_model)\n",
        "model = model.to(device)"
      ],
      "execution_count": 20,
      "outputs": []
    },
    {
      "cell_type": "markdown",
      "metadata": {
        "id": "UuauiJWqCcDz"
      },
      "source": [
        "Set model params"
      ]
    },
    {
      "cell_type": "code",
      "metadata": {
        "id": "7RjomGC26Ewt"
      },
      "source": [
        "param_optimizer = list(model.bert.named_parameters())\n",
        "no_decay = ['bias', 'gamma', 'beta']\n",
        "optimizer_grouped_parameters = [{'params': [p for n, p in param_optimizer if not any(nd in n for nd in no_decay)],\n",
        "                                 'weight_decay_rate': 0.01},\n",
        "                                {'params': [p for n, p in param_optimizer if any(nd in n for nd in no_decay)],\n",
        "                                 'weight_decay_rate': 0.0}]\n",
        "\n",
        "optimizer = AdamW(optimizer_grouped_parameters, lr=3e-5, eps=1e-8)"
      ],
      "execution_count": 21,
      "outputs": []
    },
    {
      "cell_type": "markdown",
      "metadata": {
        "id": "sbLI8p8GCx1o"
      },
      "source": [
        "Model training and validation"
      ]
    },
    {
      "cell_type": "code",
      "metadata": {
        "id": "_c45KAbxd7Yt",
        "colab": {
          "base_uri": "https://localhost:8080/"
        },
        "outputId": "fbccc4fe-2d71-4d6f-8c35-e6a3985c9d75"
      },
      "source": [
        "losses = {\"train_losses\": [], \"valid_losses\": []}\n",
        "\n",
        "epochs = 3\n",
        "CLIP = 1.0\n",
        "best_valid_loss = np.inf\n",
        "\n",
        "for epoch in range(epochs):\n",
        "\n",
        "  print(f\"Start eposh #{epoch}\")\n",
        "  \n",
        "  train_loss_sum = 0\n",
        "  model.train()\n",
        "  for i, train_batch in enumerate(train_dataloader):\n",
        "    torch.cuda.empty_cache()\n",
        "    inp = train_batch['inputs'].to(device)\n",
        "    lbls = train_batch['labels'].to(device)\n",
        "    attn = train_batch['attention_mask'].to(device)\n",
        "\n",
        "    optimizer.zero_grad()\n",
        "\n",
        "    outputs = model.forward(inp, attention_mask=attn, labels=lbls)\n",
        "\n",
        "    loss = outputs.loss\n",
        "    loss.backward()\n",
        "    torch.nn.utils.clip_grad_norm_(parameters=model.bert.parameters(), max_norm=CLIP)\n",
        "    optimizer.step()\n",
        "\n",
        "    train_loss_sum += loss.cpu().detach().numpy().item()\n",
        "\n",
        "  losses[\"train_losses\"].append(train_loss_sum/(i+1))\n",
        "\n",
        "  predict_labels, gold_labels = [], []\n",
        "\n",
        "  val_loss_sum = 0\n",
        "  model.eval()\n",
        "  with torch.no_grad():\n",
        "    for i, valid_batch in enumerate(valid_dataloader):\n",
        "      torch.cuda.empty_cache()\n",
        "      inp = valid_batch['inputs'].to(device)\n",
        "      lbls = valid_batch['labels'].to(device)\n",
        "      attn = valid_batch['attention_mask'].to(device)\n",
        "\n",
        "      outputs = model.forward(inp, attention_mask=attn, labels=lbls)\n",
        "      loss = outputs.loss\n",
        "      logits = outputs.logits\n",
        "\n",
        "      val_loss_sum += loss.cpu().detach().numpy().item()\n",
        "      gold_labels.append(transform_target(valid_batch[\"labels\"]))\n",
        "      predict_labels.append(transform_logits(logits.cpu()))\n",
        "\n",
        "  losses[\"valid_losses\"].append(val_loss_sum/(i+1))\n",
        "\n",
        "  if losses[\"valid_losses\"][-1] < best_valid_loss:\n",
        "    best_valid_loss = losses[\"valid_losses\"][-1]\n",
        "    torch.save(model.state_dict(), 'best-val-model.pt')\n",
        "\n",
        "  gold_labels = list(itertools.chain.from_iterable(gold_labels))\n",
        "  gold_labels = [[x for x in elem if x !='PAD'] for elem in gold_labels]\n",
        "  predict_labels = list(itertools.chain.from_iterable(predict_labels))\n",
        "  predict_labels = predict_preprocessing(gold_labels, predict_labels)\n",
        "  \n",
        "  count_metrics(gold_labels, predict_labels)\n",
        "  \n",
        "  print(f\"End eposh #{epoch}\")"
      ],
      "execution_count": 22,
      "outputs": [
        {
          "output_type": "stream",
          "text": [
            "Start eposh #0\n",
            "              precision    recall  f1-score   support\n",
            "\n",
            "         LOC       0.95      0.96      0.95      4016\n",
            "        MISC       0.86      0.88      0.87      2071\n",
            "           O       0.99      1.00      0.99     51723\n",
            "         ORG       0.97      0.89      0.93      3781\n",
            "         PER       0.98      0.98      0.98      6357\n",
            "\n",
            "    accuracy                           0.98     67948\n",
            "   macro avg       0.95      0.94      0.94     67948\n",
            "weighted avg       0.98      0.98      0.98     67948\n",
            "\n",
            "End eposh #0\n",
            "Start eposh #1\n",
            "              precision    recall  f1-score   support\n",
            "\n",
            "         LOC       0.95      0.96      0.96      4016\n",
            "        MISC       0.89      0.88      0.88      2071\n",
            "           O       0.99      1.00      0.99     51723\n",
            "         ORG       0.98      0.91      0.94      3781\n",
            "         PER       0.98      0.98      0.98      6357\n",
            "\n",
            "    accuracy                           0.99     67948\n",
            "   macro avg       0.96      0.95      0.95     67948\n",
            "weighted avg       0.99      0.99      0.99     67948\n",
            "\n",
            "End eposh #1\n",
            "Start eposh #2\n",
            "              precision    recall  f1-score   support\n",
            "\n",
            "         LOC       0.96      0.97      0.96      4016\n",
            "        MISC       0.91      0.90      0.90      2071\n",
            "           O       1.00      1.00      1.00     51723\n",
            "         ORG       0.94      0.94      0.94      3781\n",
            "         PER       0.98      0.98      0.98      6357\n",
            "\n",
            "    accuracy                           0.99     67948\n",
            "   macro avg       0.96      0.95      0.96     67948\n",
            "weighted avg       0.99      0.99      0.99     67948\n",
            "\n",
            "End eposh #2\n"
          ],
          "name": "stdout"
        }
      ]
    },
    {
      "cell_type": "code",
      "metadata": {
        "id": "pRdR83ScB9CL",
        "colab": {
          "base_uri": "https://localhost:8080/"
        },
        "outputId": "4b724f45-a8be-4833-ccea-824b3a36b110"
      },
      "source": [
        "print('Model validation f1_score: {0:.6f}'.format(f1_score(gold_labels, predict_labels)))\n",
        "print('Model validation accuracy: {0:.6f}'.format(accuracy_score(gold_labels, predict_labels)))"
      ],
      "execution_count": 23,
      "outputs": [
        {
          "output_type": "stream",
          "text": [
            "Model validation f1_score: 0.946223\n",
            "Model validation accuracy: 0.986401\n"
          ],
          "name": "stdout"
        }
      ]
    },
    {
      "cell_type": "code",
      "metadata": {
        "id": "M_WDizngNNdT",
        "colab": {
          "base_uri": "https://localhost:8080/",
          "height": 404
        },
        "outputId": "50984b65-e639-4ce7-8274-57e0bbee8339"
      },
      "source": [
        "plt.rcParams[\"figure.figsize\"] = (20,6)\n",
        "plt.plot(losses[\"train_losses\"], label='train loss')\n",
        "plt.plot(losses[\"valid_losses\"], label='valid loss')\n",
        "plt.grid(True)\n",
        "plt.title('Loss changing during the model training')\n",
        "plt.xlabel('Epoch')\n",
        "plt.ylabel('loss')\n",
        "plt.legend(loc='upper right')\n",
        "plt.show();"
      ],
      "execution_count": 24,
      "outputs": [
        {
          "output_type": "display_data",
          "data": {
            "image/png": "[encoded data removed]",
            "text/plain": [
              "<Figure size 1440x432 with 1 Axes>"
            ]
          },
          "metadata": {
            "tags": [],
            "needs_background": "light"
          }
        }
      ]
    },
    {
      "cell_type": "markdown",
      "metadata": {
        "id": "h5cneC42DM0C"
      },
      "source": [
        "Defining function for model testing and test example visualization."
      ]
    },
    {
      "cell_type": "code",
      "metadata": {
        "id": "CuB7b3ec6smA"
      },
      "source": [
        "def show_example(sentence, tokenizer, model):\n",
        "  \"\"\" from https://www.depends-on-the-definition.com/named-entity-recognition-with-bert/ \"\"\"  \n",
        "  tokenized_sentence = tokenizer.encode(sentence)\n",
        "  input_ids = torch.tensor([tokenized_sentence]).cuda()\n",
        "\n",
        "  model.eval()\n",
        "  with torch.no_grad():\n",
        "    output = model(input_ids)\n",
        "\n",
        "  label_indices = np.argmax(output[0].to('cpu').numpy(), axis=2)\n",
        "\n",
        "  tokens = tokenizer.convert_ids_to_tokens(input_ids.to('cpu').numpy()[0])\n",
        "\n",
        "  new_tokens, new_labels = [], []\n",
        "  for token, label_idx in zip(tokens, label_indices[0]):\n",
        "      if token.startswith(\"##\"):\n",
        "          new_tokens[-1] = new_tokens[-1] + token[2:]\n",
        "      else:\n",
        "          new_labels.append([key for (key, value) in tag2idx.items() if value==label_idx])\n",
        "          new_tokens.append(token)\n",
        "\n",
        "  new_labels = list(itertools.chain.from_iterable(new_labels))\n",
        "  for token, label in zip(new_tokens, new_labels):\n",
        "    print(\"{}\\t{}\".format(label, token))"
      ],
      "execution_count": 25,
      "outputs": []
    },
    {
      "cell_type": "markdown",
      "metadata": {
        "id": "YwuLVqj9DmRG"
      },
      "source": [
        "Testing model"
      ]
    },
    {
      "cell_type": "code",
      "metadata": {
        "colab": {
          "base_uri": "https://localhost:8080/"
        },
        "id": "wMD9aVBeQij1",
        "outputId": "1cd5cd27-67bd-40de-d78f-f81c37a40ec1"
      },
      "source": [
        "best_model = NERModel(pretrained_model).to(device)\n",
        "best_model.load_state_dict(torch.load('best-val-model.pt'))"
      ],
      "execution_count": 26,
      "outputs": [
        {
          "output_type": "execute_result",
          "data": {
            "text/plain": [
              "<All keys matched successfully>"
            ]
          },
          "metadata": {
            "tags": []
          },
          "execution_count": 26
        }
      ]
    },
    {
      "cell_type": "code",
      "metadata": {
        "id": "HVZlQNPo-GJm",
        "colab": {
          "base_uri": "https://localhost:8080/"
        },
        "outputId": "db90f4fc-0293-4cf3-e4c1-e5b41ff3d562"
      },
      "source": [
        "test_sentence = \"\"\"\n",
        "In a flier distributed on Capitol Hill last week, Elon Musk’s SpaceX warned that \n",
        "legislation now being considered would reward “Jeff Bezos with a $10 billion \n",
        "sole-source hand-out” that would tie up NASA’s moon plans and hand “space leadership to China.” \n",
        "\"\"\"\n",
        "\n",
        "show_example(test_sentence, tokenizer, best_model)"
      ],
      "execution_count": 27,
      "outputs": [
        {
          "output_type": "stream",
          "text": [
            "PAD\t[CLS]\n",
            "O\tIn\n",
            "O\ta\n",
            "O\tflier\n",
            "O\tdistributed\n",
            "O\ton\n",
            "LOC\tCapitol\n",
            "LOC\tHill\n",
            "O\tlast\n",
            "O\tweek\n",
            "O\t,\n",
            "ORG\tElon\n",
            "ORG\tMusk\n",
            "O\t’\n",
            "O\ts\n",
            "ORG\tSpaceX\n",
            "O\twarned\n",
            "O\tthat\n",
            "O\tlegislation\n",
            "O\tnow\n",
            "O\tbeing\n",
            "O\tconsidered\n",
            "O\twould\n",
            "O\treward\n",
            "O\t“\n",
            "PER\tJeff\n",
            "PER\tBezos\n",
            "O\twith\n",
            "O\ta\n",
            "O\t$\n",
            "O\t10\n",
            "O\tbillion\n",
            "O\tsole\n",
            "O\t-\n",
            "O\tsource\n",
            "O\thand\n",
            "O\t-\n",
            "O\tout\n",
            "O\t”\n",
            "O\tthat\n",
            "O\twould\n",
            "O\ttie\n",
            "O\tup\n",
            "ORG\tNASA\n",
            "O\t’\n",
            "O\ts\n",
            "O\tmoon\n",
            "O\tplans\n",
            "O\tand\n",
            "O\thand\n",
            "O\t“\n",
            "O\tspace\n",
            "O\tleadership\n",
            "O\tto\n",
            "LOC\tChina\n",
            "O\t.\n",
            "O\t”\n",
            "PAD\t[SEP]\n"
          ],
          "name": "stdout"
        }
      ]
    },
    {
      "cell_type": "code",
      "metadata": {
        "id": "MNU7SUlD7JPV"
      },
      "source": [
        ""
      ],
      "execution_count": null,
      "outputs": []
    }
  ]
}