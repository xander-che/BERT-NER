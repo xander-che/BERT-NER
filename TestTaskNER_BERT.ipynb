{
  "nbformat": 4,
  "nbformat_minor": 0,
  "metadata": {
    "colab": {
      "name": "TestTaskNER_AlexanderChernyshev.ipynb",
      "provenance": [],
      "collapsed_sections": []
    },
    "kernelspec": {
      "name": "python3",
      "display_name": "Python 3"
    },
    "language_info": {
      "name": "python"
    },
    "accelerator": "GPU",
    "widgets": {
      "application/vnd.jupyter.widget-state+json": {
        "95fe4b7421dd4f91b1a3a21103daccb4": {
          "model_module": "@jupyter-widgets/controls",
          "model_name": "HBoxModel",
          "state": {
            "_view_name": "HBoxView",
            "_dom_classes": [],
            "_model_name": "HBoxModel",
            "_view_module": "@jupyter-widgets/controls",
            "_model_module_version": "1.5.0",
            "_view_count": null,
            "_view_module_version": "1.5.0",
            "box_style": "",
            "layout": "IPY_MODEL_e379d63997454865a59f4e78e353ae9f",
            "_model_module": "@jupyter-widgets/controls",
            "children": [
              "IPY_MODEL_7a6c12fe929a44c99dd52d4dec375ab1",
              "IPY_MODEL_b14aeb32e6d545e5bb7e65eb49ae6ab5"
            ]
          }
        },
        "e379d63997454865a59f4e78e353ae9f": {
          "model_module": "@jupyter-widgets/base",
          "model_name": "LayoutModel",
          "state": {
            "_view_name": "LayoutView",
            "grid_template_rows": null,
            "right": null,
            "justify_content": null,
            "_view_module": "@jupyter-widgets/base",
            "overflow": null,
            "_model_module_version": "1.2.0",
            "_view_count": null,
            "flex_flow": null,
            "width": null,
            "min_width": null,
            "border": null,
            "align_items": null,
            "bottom": null,
            "_model_module": "@jupyter-widgets/base",
            "top": null,
            "grid_column": null,
            "overflow_y": null,
            "overflow_x": null,
            "grid_auto_flow": null,
            "grid_area": null,
            "grid_template_columns": null,
            "flex": null,
            "_model_name": "LayoutModel",
            "justify_items": null,
            "grid_row": null,
            "max_height": null,
            "align_content": null,
            "visibility": null,
            "align_self": null,
            "height": null,
            "min_height": null,
            "padding": null,
            "grid_auto_rows": null,
            "grid_gap": null,
            "max_width": null,
            "order": null,
            "_view_module_version": "1.2.0",
            "grid_template_areas": null,
            "object_position": null,
            "object_fit": null,
            "grid_auto_columns": null,
            "margin": null,
            "display": null,
            "left": null
          }
        },
        "7a6c12fe929a44c99dd52d4dec375ab1": {
          "model_module": "@jupyter-widgets/controls",
          "model_name": "FloatProgressModel",
          "state": {
            "_view_name": "ProgressView",
            "style": "IPY_MODEL_9c2b196cce9948ccbf1c0e4b861ccd7b",
            "_dom_classes": [],
            "description": "Downloading: 100%",
            "_model_name": "FloatProgressModel",
            "bar_style": "success",
            "max": 213450,
            "_view_module": "@jupyter-widgets/controls",
            "_model_module_version": "1.5.0",
            "value": 213450,
            "_view_count": null,
            "_view_module_version": "1.5.0",
            "orientation": "horizontal",
            "min": 0,
            "description_tooltip": null,
            "_model_module": "@jupyter-widgets/controls",
            "layout": "IPY_MODEL_72b9a42ae26f4a4d8c347f590af34a64"
          }
        },
        "b14aeb32e6d545e5bb7e65eb49ae6ab5": {
          "model_module": "@jupyter-widgets/controls",
          "model_name": "HTMLModel",
          "state": {
            "_view_name": "HTMLView",
            "style": "IPY_MODEL_fa1b531e5a114848b9d6fc9c1ef1cbc7",
            "_dom_classes": [],
            "description": "",
            "_model_name": "HTMLModel",
            "placeholder": "​",
            "_view_module": "@jupyter-widgets/controls",
            "_model_module_version": "1.5.0",
            "value": " 213k/213k [00:01&lt;00:00, 191kB/s]",
            "_view_count": null,
            "_view_module_version": "1.5.0",
            "description_tooltip": null,
            "_model_module": "@jupyter-widgets/controls",
            "layout": "IPY_MODEL_e6a5dbe034b04c3e9048461f8d7445dd"
          }
        },
        "9c2b196cce9948ccbf1c0e4b861ccd7b": {
          "model_module": "@jupyter-widgets/controls",
          "model_name": "ProgressStyleModel",
          "state": {
            "_view_name": "StyleView",
            "_model_name": "ProgressStyleModel",
            "description_width": "initial",
            "_view_module": "@jupyter-widgets/base",
            "_model_module_version": "1.5.0",
            "_view_count": null,
            "_view_module_version": "1.2.0",
            "bar_color": null,
            "_model_module": "@jupyter-widgets/controls"
          }
        },
        "72b9a42ae26f4a4d8c347f590af34a64": {
          "model_module": "@jupyter-widgets/base",
          "model_name": "LayoutModel",
          "state": {
            "_view_name": "LayoutView",
            "grid_template_rows": null,
            "right": null,
            "justify_content": null,
            "_view_module": "@jupyter-widgets/base",
            "overflow": null,
            "_model_module_version": "1.2.0",
            "_view_count": null,
            "flex_flow": null,
            "width": null,
            "min_width": null,
            "border": null,
            "align_items": null,
            "bottom": null,
            "_model_module": "@jupyter-widgets/base",
            "top": null,
            "grid_column": null,
            "overflow_y": null,
            "overflow_x": null,
            "grid_auto_flow": null,
            "grid_area": null,
            "grid_template_columns": null,
            "flex": null,
            "_model_name": "LayoutModel",
            "justify_items": null,
            "grid_row": null,
            "max_height": null,
            "align_content": null,
            "visibility": null,
            "align_self": null,
            "height": null,
            "min_height": null,
            "padding": null,
            "grid_auto_rows": null,
            "grid_gap": null,
            "max_width": null,
            "order": null,
            "_view_module_version": "1.2.0",
            "grid_template_areas": null,
            "object_position": null,
            "object_fit": null,
            "grid_auto_columns": null,
            "margin": null,
            "display": null,
            "left": null
          }
        },
        "fa1b531e5a114848b9d6fc9c1ef1cbc7": {
          "model_module": "@jupyter-widgets/controls",
          "model_name": "DescriptionStyleModel",
          "state": {
            "_view_name": "StyleView",
            "_model_name": "DescriptionStyleModel",
            "description_width": "",
            "_view_module": "@jupyter-widgets/base",
            "_model_module_version": "1.5.0",
            "_view_count": null,
            "_view_module_version": "1.2.0",
            "_model_module": "@jupyter-widgets/controls"
          }
        },
        "e6a5dbe034b04c3e9048461f8d7445dd": {
          "model_module": "@jupyter-widgets/base",
          "model_name": "LayoutModel",
          "state": {
            "_view_name": "LayoutView",
            "grid_template_rows": null,
            "right": null,
            "justify_content": null,
            "_view_module": "@jupyter-widgets/base",
            "overflow": null,
            "_model_module_version": "1.2.0",
            "_view_count": null,
            "flex_flow": null,
            "width": null,
            "min_width": null,
            "border": null,
            "align_items": null,
            "bottom": null,
            "_model_module": "@jupyter-widgets/base",
            "top": null,
            "grid_column": null,
            "overflow_y": null,
            "overflow_x": null,
            "grid_auto_flow": null,
            "grid_area": null,
            "grid_template_columns": null,
            "flex": null,
            "_model_name": "LayoutModel",
            "justify_items": null,
            "grid_row": null,
            "max_height": null,
            "align_content": null,
            "visibility": null,
            "align_self": null,
            "height": null,
            "min_height": null,
            "padding": null,
            "grid_auto_rows": null,
            "grid_gap": null,
            "max_width": null,
            "order": null,
            "_view_module_version": "1.2.0",
            "grid_template_areas": null,
            "object_position": null,
            "object_fit": null,
            "grid_auto_columns": null,
            "margin": null,
            "display": null,
            "left": null
          }
        },
        "b073c3044598436caadd332413045efb": {
          "model_module": "@jupyter-widgets/controls",
          "model_name": "HBoxModel",
          "state": {
            "_view_name": "HBoxView",
            "_dom_classes": [],
            "_model_name": "HBoxModel",
            "_view_module": "@jupyter-widgets/controls",
            "_model_module_version": "1.5.0",
            "_view_count": null,
            "_view_module_version": "1.5.0",
            "box_style": "",
            "layout": "IPY_MODEL_92d47145578d4089bad3fef2c9dbf3c8",
            "_model_module": "@jupyter-widgets/controls",
            "children": [
              "IPY_MODEL_910b7046770d4687a5c2643576236985",
              "IPY_MODEL_e6af4856038344d5b7b81dd1ddcf6be7"
            ]
          }
        },
        "92d47145578d4089bad3fef2c9dbf3c8": {
          "model_module": "@jupyter-widgets/base",
          "model_name": "LayoutModel",
          "state": {
            "_view_name": "LayoutView",
            "grid_template_rows": null,
            "right": null,
            "justify_content": null,
            "_view_module": "@jupyter-widgets/base",
            "overflow": null,
            "_model_module_version": "1.2.0",
            "_view_count": null,
            "flex_flow": null,
            "width": null,
            "min_width": null,
            "border": null,
            "align_items": null,
            "bottom": null,
            "_model_module": "@jupyter-widgets/base",
            "top": null,
            "grid_column": null,
            "overflow_y": null,
            "overflow_x": null,
            "grid_auto_flow": null,
            "grid_area": null,
            "grid_template_columns": null,
            "flex": null,
            "_model_name": "LayoutModel",
            "justify_items": null,
            "grid_row": null,
            "max_height": null,
            "align_content": null,
            "visibility": null,
            "align_self": null,
            "height": null,
            "min_height": null,
            "padding": null,
            "grid_auto_rows": null,
            "grid_gap": null,
            "max_width": null,
            "order": null,
            "_view_module_version": "1.2.0",
            "grid_template_areas": null,
            "object_position": null,
            "object_fit": null,
            "grid_auto_columns": null,
            "margin": null,
            "display": null,
            "left": null
          }
        },
        "910b7046770d4687a5c2643576236985": {
          "model_module": "@jupyter-widgets/controls",
          "model_name": "FloatProgressModel",
          "state": {
            "_view_name": "ProgressView",
            "style": "IPY_MODEL_65bf5fd69db045c89f6595189f06d85c",
            "_dom_classes": [],
            "description": "Downloading: 100%",
            "_model_name": "FloatProgressModel",
            "bar_style": "success",
            "max": 29,
            "_view_module": "@jupyter-widgets/controls",
            "_model_module_version": "1.5.0",
            "value": 29,
            "_view_count": null,
            "_view_module_version": "1.5.0",
            "orientation": "horizontal",
            "min": 0,
            "description_tooltip": null,
            "_model_module": "@jupyter-widgets/controls",
            "layout": "IPY_MODEL_1683b2f34a1b4806bcb209e0db45ba37"
          }
        },
        "e6af4856038344d5b7b81dd1ddcf6be7": {
          "model_module": "@jupyter-widgets/controls",
          "model_name": "HTMLModel",
          "state": {
            "_view_name": "HTMLView",
            "style": "IPY_MODEL_57b123ecffc34eff90eadd5d98c9bb87",
            "_dom_classes": [],
            "description": "",
            "_model_name": "HTMLModel",
            "placeholder": "​",
            "_view_module": "@jupyter-widgets/controls",
            "_model_module_version": "1.5.0",
            "value": " 29.0/29.0 [00:00&lt;00:00, 35.1B/s]",
            "_view_count": null,
            "_view_module_version": "1.5.0",
            "description_tooltip": null,
            "_model_module": "@jupyter-widgets/controls",
            "layout": "IPY_MODEL_a09fe9d567144cbbb9e20af5adeade48"
          }
        },
        "65bf5fd69db045c89f6595189f06d85c": {
          "model_module": "@jupyter-widgets/controls",
          "model_name": "ProgressStyleModel",
          "state": {
            "_view_name": "StyleView",
            "_model_name": "ProgressStyleModel",
            "description_width": "initial",
            "_view_module": "@jupyter-widgets/base",
            "_model_module_version": "1.5.0",
            "_view_count": null,
            "_view_module_version": "1.2.0",
            "bar_color": null,
            "_model_module": "@jupyter-widgets/controls"
          }
        },
        "1683b2f34a1b4806bcb209e0db45ba37": {
          "model_module": "@jupyter-widgets/base",
          "model_name": "LayoutModel",
          "state": {
            "_view_name": "LayoutView",
            "grid_template_rows": null,
            "right": null,
            "justify_content": null,
            "_view_module": "@jupyter-widgets/base",
            "overflow": null,
            "_model_module_version": "1.2.0",
            "_view_count": null,
            "flex_flow": null,
            "width": null,
            "min_width": null,
            "border": null,
            "align_items": null,
            "bottom": null,
            "_model_module": "@jupyter-widgets/base",
            "top": null,
            "grid_column": null,
            "overflow_y": null,
            "overflow_x": null,
            "grid_auto_flow": null,
            "grid_area": null,
            "grid_template_columns": null,
            "flex": null,
            "_model_name": "LayoutModel",
            "justify_items": null,
            "grid_row": null,
            "max_height": null,
            "align_content": null,
            "visibility": null,
            "align_self": null,
            "height": null,
            "min_height": null,
            "padding": null,
            "grid_auto_rows": null,
            "grid_gap": null,
            "max_width": null,
            "order": null,
            "_view_module_version": "1.2.0",
            "grid_template_areas": null,
            "object_position": null,
            "object_fit": null,
            "grid_auto_columns": null,
            "margin": null,
            "display": null,
            "left": null
          }
        },
        "57b123ecffc34eff90eadd5d98c9bb87": {
          "model_module": "@jupyter-widgets/controls",
          "model_name": "DescriptionStyleModel",
          "state": {
            "_view_name": "StyleView",
            "_model_name": "DescriptionStyleModel",
            "description_width": "",
            "_view_module": "@jupyter-widgets/base",
            "_model_module_version": "1.5.0",
            "_view_count": null,
            "_view_module_version": "1.2.0",
            "_model_module": "@jupyter-widgets/controls"
          }
        },
        "a09fe9d567144cbbb9e20af5adeade48": {
          "model_module": "@jupyter-widgets/base",
          "model_name": "LayoutModel",
          "state": {
            "_view_name": "LayoutView",
            "grid_template_rows": null,
            "right": null,
            "justify_content": null,
            "_view_module": "@jupyter-widgets/base",
            "overflow": null,
            "_model_module_version": "1.2.0",
            "_view_count": null,
            "flex_flow": null,
            "width": null,
            "min_width": null,
            "border": null,
            "align_items": null,
            "bottom": null,
            "_model_module": "@jupyter-widgets/base",
            "top": null,
            "grid_column": null,
            "overflow_y": null,
            "overflow_x": null,
            "grid_auto_flow": null,
            "grid_area": null,
            "grid_template_columns": null,
            "flex": null,
            "_model_name": "LayoutModel",
            "justify_items": null,
            "grid_row": null,
            "max_height": null,
            "align_content": null,
            "visibility": null,
            "align_self": null,
            "height": null,
            "min_height": null,
            "padding": null,
            "grid_auto_rows": null,
            "grid_gap": null,
            "max_width": null,
            "order": null,
            "_view_module_version": "1.2.0",
            "grid_template_areas": null,
            "object_position": null,
            "object_fit": null,
            "grid_auto_columns": null,
            "margin": null,
            "display": null,
            "left": null
          }
        },
        "a6e3164ac8ae411b9dd7053bd508c7cd": {
          "model_module": "@jupyter-widgets/controls",
          "model_name": "HBoxModel",
          "state": {
            "_view_name": "HBoxView",
            "_dom_classes": [],
            "_model_name": "HBoxModel",
            "_view_module": "@jupyter-widgets/controls",
            "_model_module_version": "1.5.0",
            "_view_count": null,
            "_view_module_version": "1.5.0",
            "box_style": "",
            "layout": "IPY_MODEL_02a3a03d1f4d4f948880fab9507f4be2",
            "_model_module": "@jupyter-widgets/controls",
            "children": [
              "IPY_MODEL_53b4423f414a49b88eed5076a6ed7fc6",
              "IPY_MODEL_164e1659898148a891750d99b3b57d41"
            ]
          }
        },
        "02a3a03d1f4d4f948880fab9507f4be2": {
          "model_module": "@jupyter-widgets/base",
          "model_name": "LayoutModel",
          "state": {
            "_view_name": "LayoutView",
            "grid_template_rows": null,
            "right": null,
            "justify_content": null,
            "_view_module": "@jupyter-widgets/base",
            "overflow": null,
            "_model_module_version": "1.2.0",
            "_view_count": null,
            "flex_flow": null,
            "width": null,
            "min_width": null,
            "border": null,
            "align_items": null,
            "bottom": null,
            "_model_module": "@jupyter-widgets/base",
            "top": null,
            "grid_column": null,
            "overflow_y": null,
            "overflow_x": null,
            "grid_auto_flow": null,
            "grid_area": null,
            "grid_template_columns": null,
            "flex": null,
            "_model_name": "LayoutModel",
            "justify_items": null,
            "grid_row": null,
            "max_height": null,
            "align_content": null,
            "visibility": null,
            "align_self": null,
            "height": null,
            "min_height": null,
            "padding": null,
            "grid_auto_rows": null,
            "grid_gap": null,
            "max_width": null,
            "order": null,
            "_view_module_version": "1.2.0",
            "grid_template_areas": null,
            "object_position": null,
            "object_fit": null,
            "grid_auto_columns": null,
            "margin": null,
            "display": null,
            "left": null
          }
        },
        "53b4423f414a49b88eed5076a6ed7fc6": {
          "model_module": "@jupyter-widgets/controls",
          "model_name": "FloatProgressModel",
          "state": {
            "_view_name": "ProgressView",
            "style": "IPY_MODEL_faea73399fc04594bae2faa319fe3814",
            "_dom_classes": [],
            "description": "Downloading: 100%",
            "_model_name": "FloatProgressModel",
            "bar_style": "success",
            "max": 435797,
            "_view_module": "@jupyter-widgets/controls",
            "_model_module_version": "1.5.0",
            "value": 435797,
            "_view_count": null,
            "_view_module_version": "1.5.0",
            "orientation": "horizontal",
            "min": 0,
            "description_tooltip": null,
            "_model_module": "@jupyter-widgets/controls",
            "layout": "IPY_MODEL_228b3f54dacb42a19d1aedddd4dbffa3"
          }
        },
        "164e1659898148a891750d99b3b57d41": {
          "model_module": "@jupyter-widgets/controls",
          "model_name": "HTMLModel",
          "state": {
            "_view_name": "HTMLView",
            "style": "IPY_MODEL_4302570e1d5340c78190031e5b328524",
            "_dom_classes": [],
            "description": "",
            "_model_name": "HTMLModel",
            "placeholder": "​",
            "_view_module": "@jupyter-widgets/controls",
            "_model_module_version": "1.5.0",
            "value": " 436k/436k [00:00&lt;00:00, 1.27MB/s]",
            "_view_count": null,
            "_view_module_version": "1.5.0",
            "description_tooltip": null,
            "_model_module": "@jupyter-widgets/controls",
            "layout": "IPY_MODEL_646b9b9f14ae429da94acdc65addfad6"
          }
        },
        "faea73399fc04594bae2faa319fe3814": {
          "model_module": "@jupyter-widgets/controls",
          "model_name": "ProgressStyleModel",
          "state": {
            "_view_name": "StyleView",
            "_model_name": "ProgressStyleModel",
            "description_width": "initial",
            "_view_module": "@jupyter-widgets/base",
            "_model_module_version": "1.5.0",
            "_view_count": null,
            "_view_module_version": "1.2.0",
            "bar_color": null,
            "_model_module": "@jupyter-widgets/controls"
          }
        },
        "228b3f54dacb42a19d1aedddd4dbffa3": {
          "model_module": "@jupyter-widgets/base",
          "model_name": "LayoutModel",
          "state": {
            "_view_name": "LayoutView",
            "grid_template_rows": null,
            "right": null,
            "justify_content": null,
            "_view_module": "@jupyter-widgets/base",
            "overflow": null,
            "_model_module_version": "1.2.0",
            "_view_count": null,
            "flex_flow": null,
            "width": null,
            "min_width": null,
            "border": null,
            "align_items": null,
            "bottom": null,
            "_model_module": "@jupyter-widgets/base",
            "top": null,
            "grid_column": null,
            "overflow_y": null,
            "overflow_x": null,
            "grid_auto_flow": null,
            "grid_area": null,
            "grid_template_columns": null,
            "flex": null,
            "_model_name": "LayoutModel",
            "justify_items": null,
            "grid_row": null,
            "max_height": null,
            "align_content": null,
            "visibility": null,
            "align_self": null,
            "height": null,
            "min_height": null,
            "padding": null,
            "grid_auto_rows": null,
            "grid_gap": null,
            "max_width": null,
            "order": null,
            "_view_module_version": "1.2.0",
            "grid_template_areas": null,
            "object_position": null,
            "object_fit": null,
            "grid_auto_columns": null,
            "margin": null,
            "display": null,
            "left": null
          }
        },
        "4302570e1d5340c78190031e5b328524": {
          "model_module": "@jupyter-widgets/controls",
          "model_name": "DescriptionStyleModel",
          "state": {
            "_view_name": "StyleView",
            "_model_name": "DescriptionStyleModel",
            "description_width": "",
            "_view_module": "@jupyter-widgets/base",
            "_model_module_version": "1.5.0",
            "_view_count": null,
            "_view_module_version": "1.2.0",
            "_model_module": "@jupyter-widgets/controls"
          }
        },
        "646b9b9f14ae429da94acdc65addfad6": {
          "model_module": "@jupyter-widgets/base",
          "model_name": "LayoutModel",
          "state": {
            "_view_name": "LayoutView",
            "grid_template_rows": null,
            "right": null,
            "justify_content": null,
            "_view_module": "@jupyter-widgets/base",
            "overflow": null,
            "_model_module_version": "1.2.0",
            "_view_count": null,
            "flex_flow": null,
            "width": null,
            "min_width": null,
            "border": null,
            "align_items": null,
            "bottom": null,
            "_model_module": "@jupyter-widgets/base",
            "top": null,
            "grid_column": null,
            "overflow_y": null,
            "overflow_x": null,
            "grid_auto_flow": null,
            "grid_area": null,
            "grid_template_columns": null,
            "flex": null,
            "_model_name": "LayoutModel",
            "justify_items": null,
            "grid_row": null,
            "max_height": null,
            "align_content": null,
            "visibility": null,
            "align_self": null,
            "height": null,
            "min_height": null,
            "padding": null,
            "grid_auto_rows": null,
            "grid_gap": null,
            "max_width": null,
            "order": null,
            "_view_module_version": "1.2.0",
            "grid_template_areas": null,
            "object_position": null,
            "object_fit": null,
            "grid_auto_columns": null,
            "margin": null,
            "display": null,
            "left": null
          }
        },
        "c3c4413af3ca4ecc8877ad5476eb26af": {
          "model_module": "@jupyter-widgets/controls",
          "model_name": "HBoxModel",
          "state": {
            "_view_name": "HBoxView",
            "_dom_classes": [],
            "_model_name": "HBoxModel",
            "_view_module": "@jupyter-widgets/controls",
            "_model_module_version": "1.5.0",
            "_view_count": null,
            "_view_module_version": "1.5.0",
            "box_style": "",
            "layout": "IPY_MODEL_6747b371fe244d91b1be5091a70c8846",
            "_model_module": "@jupyter-widgets/controls",
            "children": [
              "IPY_MODEL_a344867a17e64fcbbf28a56e6aa6cc8f",
              "IPY_MODEL_ad9ef34920e9473ead1130a142ab9883"
            ]
          }
        },
        "6747b371fe244d91b1be5091a70c8846": {
          "model_module": "@jupyter-widgets/base",
          "model_name": "LayoutModel",
          "state": {
            "_view_name": "LayoutView",
            "grid_template_rows": null,
            "right": null,
            "justify_content": null,
            "_view_module": "@jupyter-widgets/base",
            "overflow": null,
            "_model_module_version": "1.2.0",
            "_view_count": null,
            "flex_flow": null,
            "width": null,
            "min_width": null,
            "border": null,
            "align_items": null,
            "bottom": null,
            "_model_module": "@jupyter-widgets/base",
            "top": null,
            "grid_column": null,
            "overflow_y": null,
            "overflow_x": null,
            "grid_auto_flow": null,
            "grid_area": null,
            "grid_template_columns": null,
            "flex": null,
            "_model_name": "LayoutModel",
            "justify_items": null,
            "grid_row": null,
            "max_height": null,
            "align_content": null,
            "visibility": null,
            "align_self": null,
            "height": null,
            "min_height": null,
            "padding": null,
            "grid_auto_rows": null,
            "grid_gap": null,
            "max_width": null,
            "order": null,
            "_view_module_version": "1.2.0",
            "grid_template_areas": null,
            "object_position": null,
            "object_fit": null,
            "grid_auto_columns": null,
            "margin": null,
            "display": null,
            "left": null
          }
        },
        "a344867a17e64fcbbf28a56e6aa6cc8f": {
          "model_module": "@jupyter-widgets/controls",
          "model_name": "FloatProgressModel",
          "state": {
            "_view_name": "ProgressView",
            "style": "IPY_MODEL_daaf034e86c44544a6ed343a88ae851c",
            "_dom_classes": [],
            "description": "Downloading: 100%",
            "_model_name": "FloatProgressModel",
            "bar_style": "success",
            "max": 570,
            "_view_module": "@jupyter-widgets/controls",
            "_model_module_version": "1.5.0",
            "value": 570,
            "_view_count": null,
            "_view_module_version": "1.5.0",
            "orientation": "horizontal",
            "min": 0,
            "description_tooltip": null,
            "_model_module": "@jupyter-widgets/controls",
            "layout": "IPY_MODEL_0b716a60e5624c7db2dfd8ce11f8cf7f"
          }
        },
        "ad9ef34920e9473ead1130a142ab9883": {
          "model_module": "@jupyter-widgets/controls",
          "model_name": "HTMLModel",
          "state": {
            "_view_name": "HTMLView",
            "style": "IPY_MODEL_1dc4e941a7d546fca4c04875f5be556e",
            "_dom_classes": [],
            "description": "",
            "_model_name": "HTMLModel",
            "placeholder": "​",
            "_view_module": "@jupyter-widgets/controls",
            "_model_module_version": "1.5.0",
            "value": " 570/570 [00:22&lt;00:00, 25.0B/s]",
            "_view_count": null,
            "_view_module_version": "1.5.0",
            "description_tooltip": null,
            "_model_module": "@jupyter-widgets/controls",
            "layout": "IPY_MODEL_7516c95d07804a64b38cbf700ac9850b"
          }
        },
        "daaf034e86c44544a6ed343a88ae851c": {
          "model_module": "@jupyter-widgets/controls",
          "model_name": "ProgressStyleModel",
          "state": {
            "_view_name": "StyleView",
            "_model_name": "ProgressStyleModel",
            "description_width": "initial",
            "_view_module": "@jupyter-widgets/base",
            "_model_module_version": "1.5.0",
            "_view_count": null,
            "_view_module_version": "1.2.0",
            "bar_color": null,
            "_model_module": "@jupyter-widgets/controls"
          }
        },
        "0b716a60e5624c7db2dfd8ce11f8cf7f": {
          "model_module": "@jupyter-widgets/base",
          "model_name": "LayoutModel",
          "state": {
            "_view_name": "LayoutView",
            "grid_template_rows": null,
            "right": null,
            "justify_content": null,
            "_view_module": "@jupyter-widgets/base",
            "overflow": null,
            "_model_module_version": "1.2.0",
            "_view_count": null,
            "flex_flow": null,
            "width": null,
            "min_width": null,
            "border": null,
            "align_items": null,
            "bottom": null,
            "_model_module": "@jupyter-widgets/base",
            "top": null,
            "grid_column": null,
            "overflow_y": null,
            "overflow_x": null,
            "grid_auto_flow": null,
            "grid_area": null,
            "grid_template_columns": null,
            "flex": null,
            "_model_name": "LayoutModel",
            "justify_items": null,
            "grid_row": null,
            "max_height": null,
            "align_content": null,
            "visibility": null,
            "align_self": null,
            "height": null,
            "min_height": null,
            "padding": null,
            "grid_auto_rows": null,
            "grid_gap": null,
            "max_width": null,
            "order": null,
            "_view_module_version": "1.2.0",
            "grid_template_areas": null,
            "object_position": null,
            "object_fit": null,
            "grid_auto_columns": null,
            "margin": null,
            "display": null,
            "left": null
          }
        },
        "1dc4e941a7d546fca4c04875f5be556e": {
          "model_module": "@jupyter-widgets/controls",
          "model_name": "DescriptionStyleModel",
          "state": {
            "_view_name": "StyleView",
            "_model_name": "DescriptionStyleModel",
            "description_width": "",
            "_view_module": "@jupyter-widgets/base",
            "_model_module_version": "1.5.0",
            "_view_count": null,
            "_view_module_version": "1.2.0",
            "_model_module": "@jupyter-widgets/controls"
          }
        },
        "7516c95d07804a64b38cbf700ac9850b": {
          "model_module": "@jupyter-widgets/base",
          "model_name": "LayoutModel",
          "state": {
            "_view_name": "LayoutView",
            "grid_template_rows": null,
            "right": null,
            "justify_content": null,
            "_view_module": "@jupyter-widgets/base",
            "overflow": null,
            "_model_module_version": "1.2.0",
            "_view_count": null,
            "flex_flow": null,
            "width": null,
            "min_width": null,
            "border": null,
            "align_items": null,
            "bottom": null,
            "_model_module": "@jupyter-widgets/base",
            "top": null,
            "grid_column": null,
            "overflow_y": null,
            "overflow_x": null,
            "grid_auto_flow": null,
            "grid_area": null,
            "grid_template_columns": null,
            "flex": null,
            "_model_name": "LayoutModel",
            "justify_items": null,
            "grid_row": null,
            "max_height": null,
            "align_content": null,
            "visibility": null,
            "align_self": null,
            "height": null,
            "min_height": null,
            "padding": null,
            "grid_auto_rows": null,
            "grid_gap": null,
            "max_width": null,
            "order": null,
            "_view_module_version": "1.2.0",
            "grid_template_areas": null,
            "object_position": null,
            "object_fit": null,
            "grid_auto_columns": null,
            "margin": null,
            "display": null,
            "left": null
          }
        },
        "db3d018aed794b53b5fa117c5cf79da7": {
          "model_module": "@jupyter-widgets/controls",
          "model_name": "HBoxModel",
          "state": {
            "_view_name": "HBoxView",
            "_dom_classes": [],
            "_model_name": "HBoxModel",
            "_view_module": "@jupyter-widgets/controls",
            "_model_module_version": "1.5.0",
            "_view_count": null,
            "_view_module_version": "1.5.0",
            "box_style": "",
            "layout": "IPY_MODEL_a3d1772aae6b44fd9a6341d8b54ad123",
            "_model_module": "@jupyter-widgets/controls",
            "children": [
              "IPY_MODEL_059ca426db4d459db8812f8920e00ce7",
              "IPY_MODEL_4a81af37f94e4db7b0dff7c812667522"
            ]
          }
        },
        "a3d1772aae6b44fd9a6341d8b54ad123": {
          "model_module": "@jupyter-widgets/base",
          "model_name": "LayoutModel",
          "state": {
            "_view_name": "LayoutView",
            "grid_template_rows": null,
            "right": null,
            "justify_content": null,
            "_view_module": "@jupyter-widgets/base",
            "overflow": null,
            "_model_module_version": "1.2.0",
            "_view_count": null,
            "flex_flow": null,
            "width": null,
            "min_width": null,
            "border": null,
            "align_items": null,
            "bottom": null,
            "_model_module": "@jupyter-widgets/base",
            "top": null,
            "grid_column": null,
            "overflow_y": null,
            "overflow_x": null,
            "grid_auto_flow": null,
            "grid_area": null,
            "grid_template_columns": null,
            "flex": null,
            "_model_name": "LayoutModel",
            "justify_items": null,
            "grid_row": null,
            "max_height": null,
            "align_content": null,
            "visibility": null,
            "align_self": null,
            "height": null,
            "min_height": null,
            "padding": null,
            "grid_auto_rows": null,
            "grid_gap": null,
            "max_width": null,
            "order": null,
            "_view_module_version": "1.2.0",
            "grid_template_areas": null,
            "object_position": null,
            "object_fit": null,
            "grid_auto_columns": null,
            "margin": null,
            "display": null,
            "left": null
          }
        },
        "059ca426db4d459db8812f8920e00ce7": {
          "model_module": "@jupyter-widgets/controls",
          "model_name": "FloatProgressModel",
          "state": {
            "_view_name": "ProgressView",
            "style": "IPY_MODEL_292ab609590c40a58059666bc462a109",
            "_dom_classes": [],
            "description": "Downloading: 100%",
            "_model_name": "FloatProgressModel",
            "bar_style": "success",
            "max": 435779157,
            "_view_module": "@jupyter-widgets/controls",
            "_model_module_version": "1.5.0",
            "value": 435779157,
            "_view_count": null,
            "_view_module_version": "1.5.0",
            "orientation": "horizontal",
            "min": 0,
            "description_tooltip": null,
            "_model_module": "@jupyter-widgets/controls",
            "layout": "IPY_MODEL_1a1b1ca4fd3142c6863bd8065f3d858c"
          }
        },
        "4a81af37f94e4db7b0dff7c812667522": {
          "model_module": "@jupyter-widgets/controls",
          "model_name": "HTMLModel",
          "state": {
            "_view_name": "HTMLView",
            "style": "IPY_MODEL_01f27b9456f74e3d8ee861ec339d0be5",
            "_dom_classes": [],
            "description": "",
            "_model_name": "HTMLModel",
            "placeholder": "​",
            "_view_module": "@jupyter-widgets/controls",
            "_model_module_version": "1.5.0",
            "value": " 436M/436M [00:09&lt;00:00, 44.9MB/s]",
            "_view_count": null,
            "_view_module_version": "1.5.0",
            "description_tooltip": null,
            "_model_module": "@jupyter-widgets/controls",
            "layout": "IPY_MODEL_f739077f0e224fe2913b864b60995b7e"
          }
        },
        "292ab609590c40a58059666bc462a109": {
          "model_module": "@jupyter-widgets/controls",
          "model_name": "ProgressStyleModel",
          "state": {
            "_view_name": "StyleView",
            "_model_name": "ProgressStyleModel",
            "description_width": "initial",
            "_view_module": "@jupyter-widgets/base",
            "_model_module_version": "1.5.0",
            "_view_count": null,
            "_view_module_version": "1.2.0",
            "bar_color": null,
            "_model_module": "@jupyter-widgets/controls"
          }
        },
        "1a1b1ca4fd3142c6863bd8065f3d858c": {
          "model_module": "@jupyter-widgets/base",
          "model_name": "LayoutModel",
          "state": {
            "_view_name": "LayoutView",
            "grid_template_rows": null,
            "right": null,
            "justify_content": null,
            "_view_module": "@jupyter-widgets/base",
            "overflow": null,
            "_model_module_version": "1.2.0",
            "_view_count": null,
            "flex_flow": null,
            "width": null,
            "min_width": null,
            "border": null,
            "align_items": null,
            "bottom": null,
            "_model_module": "@jupyter-widgets/base",
            "top": null,
            "grid_column": null,
            "overflow_y": null,
            "overflow_x": null,
            "grid_auto_flow": null,
            "grid_area": null,
            "grid_template_columns": null,
            "flex": null,
            "_model_name": "LayoutModel",
            "justify_items": null,
            "grid_row": null,
            "max_height": null,
            "align_content": null,
            "visibility": null,
            "align_self": null,
            "height": null,
            "min_height": null,
            "padding": null,
            "grid_auto_rows": null,
            "grid_gap": null,
            "max_width": null,
            "order": null,
            "_view_module_version": "1.2.0",
            "grid_template_areas": null,
            "object_position": null,
            "object_fit": null,
            "grid_auto_columns": null,
            "margin": null,
            "display": null,
            "left": null
          }
        },
        "01f27b9456f74e3d8ee861ec339d0be5": {
          "model_module": "@jupyter-widgets/controls",
          "model_name": "DescriptionStyleModel",
          "state": {
            "_view_name": "StyleView",
            "_model_name": "DescriptionStyleModel",
            "description_width": "",
            "_view_module": "@jupyter-widgets/base",
            "_model_module_version": "1.5.0",
            "_view_count": null,
            "_view_module_version": "1.2.0",
            "_model_module": "@jupyter-widgets/controls"
          }
        },
        "f739077f0e224fe2913b864b60995b7e": {
          "model_module": "@jupyter-widgets/base",
          "model_name": "LayoutModel",
          "state": {
            "_view_name": "LayoutView",
            "grid_template_rows": null,
            "right": null,
            "justify_content": null,
            "_view_module": "@jupyter-widgets/base",
            "overflow": null,
            "_model_module_version": "1.2.0",
            "_view_count": null,
            "flex_flow": null,
            "width": null,
            "min_width": null,
            "border": null,
            "align_items": null,
            "bottom": null,
            "_model_module": "@jupyter-widgets/base",
            "top": null,
            "grid_column": null,
            "overflow_y": null,
            "overflow_x": null,
            "grid_auto_flow": null,
            "grid_area": null,
            "grid_template_columns": null,
            "flex": null,
            "_model_name": "LayoutModel",
            "justify_items": null,
            "grid_row": null,
            "max_height": null,
            "align_content": null,
            "visibility": null,
            "align_self": null,
            "height": null,
            "min_height": null,
            "padding": null,
            "grid_auto_rows": null,
            "grid_gap": null,
            "max_width": null,
            "order": null,
            "_view_module_version": "1.2.0",
            "grid_template_areas": null,
            "object_position": null,
            "object_fit": null,
            "grid_auto_columns": null,
            "margin": null,
            "display": null,
            "left": null
          }
        }
      }
    }
  },
  "cells": [
    {
      "cell_type": "markdown",
      "metadata": {
        "id": "W3W68fXhinqH"
      },
      "source": [
        "# Тестовое задание \n",
        "\n",
        "   Ваша задача написать пайплайн для тренировки модели глубоко обучения (любую – **embeddings + LSTM, Bert** …) с использованием следующих инструментов: pytorch, sklearn, matplotlib – для решения задачи **NER** (извлечения сущностей).\n",
        "\n",
        "   В качестве данных используется датасет **Conll2003** с четырьмя классами **Per, Org, Loc, Misc** в формате **Conll**.\n",
        "\n",
        "   В тетрадке ниже заданы основные классы и функции для построения требуемого пайплайн, какие-то уже имплементированы, какие-то – нет. Их требуется доработать. Тем не менее если данный набор абстракций вам не подходит Вы можете написать свой пайплайн «с нуля», однако обоснованность у этих действий должна быть.\n",
        "\n",
        "**Что оценивается в первую очередь:**\n",
        "- Выбранная архитектура для решения задачи\n",
        "- Выбранные предобученные веса \n",
        "- Полученные метрики\n",
        "\n",
        "**Затем:**\n",
        "- Глубина разведочного анализа\n",
        "- Какая схема теггирования используется (**BIO, IO** или другие)\n",
        "- Каким образом производится расчет метрик (потокенный отчет, отчет по точному совпадению спанов сущностей)\n",
        "\n",
        "**С меньшим приоритетом:** \n",
        "- Скорость предобработки и постобработки данных \n",
        "- Стиль кода"
      ]
    },
    {
      "cell_type": "code",
      "metadata": {
        "colab": {
          "base_uri": "https://localhost:8080/"
        },
        "id": "SiBslWvSRKH0",
        "outputId": "70e88a45-b9ea-4db3-9523-050508794f49"
      },
      "source": [
        "!wget https://raw.githubusercontent.com/synalp/NER/master/corpus/CoNLL-2003/eng.testa\n",
        "!wget https://raw.githubusercontent.com/synalp/NER/master/corpus/CoNLL-2003/eng.train"
      ],
      "execution_count": 1,
      "outputs": [
        {
          "output_type": "stream",
          "text": [
            "--2021-05-22 11:25:15--  https://raw.githubusercontent.com/synalp/NER/master/corpus/CoNLL-2003/eng.testa\n",
            "Resolving raw.githubusercontent.com (raw.githubusercontent.com)... 185.199.108.133, 185.199.111.133, 185.199.110.133, ...\n",
            "Connecting to raw.githubusercontent.com (raw.githubusercontent.com)|185.199.108.133|:443... connected.\n",
            "HTTP request sent, awaiting response... 200 OK\n",
            "Length: 827012 (808K) [text/plain]\n",
            "Saving to: ‘eng.testa’\n",
            "\n",
            "\reng.testa             0%[                    ]       0  --.-KB/s               \reng.testa           100%[===================>] 807.63K  --.-KB/s    in 0.03s   \n",
            "\n",
            "2021-05-22 11:25:16 (24.6 MB/s) - ‘eng.testa’ saved [827012/827012]\n",
            "\n",
            "--2021-05-22 11:25:16--  https://raw.githubusercontent.com/synalp/NER/master/corpus/CoNLL-2003/eng.train\n",
            "Resolving raw.githubusercontent.com (raw.githubusercontent.com)... 185.199.108.133, 185.199.109.133, 185.199.110.133, ...\n",
            "Connecting to raw.githubusercontent.com (raw.githubusercontent.com)|185.199.108.133|:443... connected.\n",
            "HTTP request sent, awaiting response... 200 OK\n",
            "Length: 3281528 (3.1M) [text/plain]\n",
            "Saving to: ‘eng.train’\n",
            "\n",
            "eng.train           100%[===================>]   3.13M  --.-KB/s    in 0.09s   \n",
            "\n",
            "2021-05-22 11:25:16 (34.4 MB/s) - ‘eng.train’ saved [3281528/3281528]\n",
            "\n"
          ],
          "name": "stdout"
        }
      ]
    },
    {
      "cell_type": "code",
      "metadata": {
        "colab": {
          "base_uri": "https://localhost:8080/"
        },
        "id": "Zt8yjpnXR6qL",
        "outputId": "159ae817-ec50-492f-b09c-cb0bfcfb905b"
      },
      "source": [
        "!head eng.train "
      ],
      "execution_count": 2,
      "outputs": [
        {
          "output_type": "stream",
          "text": [
            "-DOCSTART- -X- O O\n",
            "\n",
            "EU NNP I-NP I-ORG\n",
            "rejects VBZ I-VP O\n",
            "German JJ I-NP I-MISC\n",
            "call NN I-NP O\n",
            "to TO I-VP O\n",
            "boycott VB I-VP O\n",
            "British JJ I-NP I-MISC\n",
            "lamb NN I-NP O\n"
          ],
          "name": "stdout"
        }
      ]
    },
    {
      "cell_type": "code",
      "metadata": {
        "colab": {
          "base_uri": "https://localhost:8080/"
        },
        "id": "sDhsFuW_KCU4",
        "outputId": "79c02736-658a-4d42-c6c4-4aa914cbd5c1"
      },
      "source": [
        "!pip install transformers"
      ],
      "execution_count": 3,
      "outputs": [
        {
          "output_type": "stream",
          "text": [
            "Collecting transformers\n",
            "\u001b[?25l  Downloading https://files.pythonhosted.org/packages/d5/43/cfe4ee779bbd6a678ac6a97c5a5cdeb03c35f9eaebbb9720b036680f9a2d/transformers-4.6.1-py3-none-any.whl (2.2MB)\n",
            "\u001b[K     |████████████████████████████████| 2.3MB 7.3MB/s \n",
            "\u001b[?25hRequirement already satisfied: numpy>=1.17 in /usr/local/lib/python3.7/dist-packages (from transformers) (1.19.5)\n",
            "Requirement already satisfied: tqdm>=4.27 in /usr/local/lib/python3.7/dist-packages (from transformers) (4.41.1)\n",
            "Requirement already satisfied: importlib-metadata; python_version < \"3.8\" in /usr/local/lib/python3.7/dist-packages (from transformers) (4.0.1)\n",
            "Requirement already satisfied: requests in /usr/local/lib/python3.7/dist-packages (from transformers) (2.23.0)\n",
            "Collecting tokenizers<0.11,>=0.10.1\n",
            "\u001b[?25l  Downloading https://files.pythonhosted.org/packages/ae/04/5b870f26a858552025a62f1649c20d29d2672c02ff3c3fb4c688ca46467a/tokenizers-0.10.2-cp37-cp37m-manylinux2010_x86_64.whl (3.3MB)\n",
            "\u001b[K     |████████████████████████████████| 3.3MB 37.9MB/s \n",
            "\u001b[?25hCollecting huggingface-hub==0.0.8\n",
            "  Downloading https://files.pythonhosted.org/packages/a1/88/7b1e45720ecf59c6c6737ff332f41c955963090a18e72acbcbeac6b25e86/huggingface_hub-0.0.8-py3-none-any.whl\n",
            "Collecting sacremoses\n",
            "\u001b[?25l  Downloading https://files.pythonhosted.org/packages/75/ee/67241dc87f266093c533a2d4d3d69438e57d7a90abb216fa076e7d475d4a/sacremoses-0.0.45-py3-none-any.whl (895kB)\n",
            "\u001b[K     |████████████████████████████████| 901kB 49.5MB/s \n",
            "\u001b[?25hRequirement already satisfied: filelock in /usr/local/lib/python3.7/dist-packages (from transformers) (3.0.12)\n",
            "Requirement already satisfied: regex!=2019.12.17 in /usr/local/lib/python3.7/dist-packages (from transformers) (2019.12.20)\n",
            "Requirement already satisfied: packaging in /usr/local/lib/python3.7/dist-packages (from transformers) (20.9)\n",
            "Requirement already satisfied: zipp>=0.5 in /usr/local/lib/python3.7/dist-packages (from importlib-metadata; python_version < \"3.8\"->transformers) (3.4.1)\n",
            "Requirement already satisfied: typing-extensions>=3.6.4; python_version < \"3.8\" in /usr/local/lib/python3.7/dist-packages (from importlib-metadata; python_version < \"3.8\"->transformers) (3.7.4.3)\n",
            "Requirement already satisfied: chardet<4,>=3.0.2 in /usr/local/lib/python3.7/dist-packages (from requests->transformers) (3.0.4)\n",
            "Requirement already satisfied: certifi>=2017.4.17 in /usr/local/lib/python3.7/dist-packages (from requests->transformers) (2020.12.5)\n",
            "Requirement already satisfied: urllib3!=1.25.0,!=1.25.1,<1.26,>=1.21.1 in /usr/local/lib/python3.7/dist-packages (from requests->transformers) (1.24.3)\n",
            "Requirement already satisfied: idna<3,>=2.5 in /usr/local/lib/python3.7/dist-packages (from requests->transformers) (2.10)\n",
            "Requirement already satisfied: joblib in /usr/local/lib/python3.7/dist-packages (from sacremoses->transformers) (1.0.1)\n",
            "Requirement already satisfied: six in /usr/local/lib/python3.7/dist-packages (from sacremoses->transformers) (1.15.0)\n",
            "Requirement already satisfied: click in /usr/local/lib/python3.7/dist-packages (from sacremoses->transformers) (8.0.0)\n",
            "Requirement already satisfied: pyparsing>=2.0.2 in /usr/local/lib/python3.7/dist-packages (from packaging->transformers) (2.4.7)\n",
            "Installing collected packages: tokenizers, huggingface-hub, sacremoses, transformers\n",
            "Successfully installed huggingface-hub-0.0.8 sacremoses-0.0.45 tokenizers-0.10.2 transformers-4.6.1\n"
          ],
          "name": "stdout"
        }
      ]
    },
    {
      "cell_type": "code",
      "metadata": {
        "id": "tZi5GT-1BoSM",
        "colab": {
          "base_uri": "https://localhost:8080/"
        },
        "outputId": "1f654004-4d90-47c0-dda8-1d59a63582ca"
      },
      "source": [
        "!pip -q install seqeval"
      ],
      "execution_count": 4,
      "outputs": [
        {
          "output_type": "stream",
          "text": [
            "\u001b[?25l\r\u001b[K     |███████▌                        | 10kB 20.4MB/s eta 0:00:01\r\u001b[K     |███████████████                 | 20kB 22.7MB/s eta 0:00:01\r\u001b[K     |██████████████████████▌         | 30kB 17.0MB/s eta 0:00:01\r\u001b[K     |██████████████████████████████  | 40kB 15.3MB/s eta 0:00:01\r\u001b[K     |████████████████████████████████| 51kB 4.8MB/s \n",
            "\u001b[?25h  Building wheel for seqeval (setup.py) ... \u001b[?25l\u001b[?25hdone\n"
          ],
          "name": "stdout"
        }
      ]
    },
    {
      "cell_type": "code",
      "metadata": {
        "id": "61Q6EAQsXMgf"
      },
      "source": [
        "from torch.utils.data import Dataset, DataLoader, RandomSampler\n",
        "from typing import List\n",
        "from collections import Counter\n",
        "import matplotlib.pyplot as plt\n",
        "from tqdm import tqdm\n",
        "from torch import nn\n",
        "import torch\n",
        "from sklearn.metrics import classification_report\n",
        "import numpy as np\n",
        "import itertools\n",
        "\n",
        "from transformers import BertTokenizer\n",
        "\n",
        "from seqeval.metrics import f1_score\n",
        "from seqeval.metrics import accuracy_score\n",
        "\n",
        "import warnings\n",
        "warnings.filterwarnings('ignore')"
      ],
      "execution_count": 5,
      "outputs": []
    },
    {
      "cell_type": "code",
      "metadata": {
        "colab": {
          "base_uri": "https://localhost:8080/"
        },
        "id": "HUVbuWYaT1YI",
        "outputId": "688dcd65-a731-4ab8-aef6-98b000ea2f54"
      },
      "source": [
        "def read_data(file):\n",
        "  lines = open(file, \"r\").readlines()\n",
        "  data = {\"sentences\": [], \"labels_per_sent\": []}\n",
        "  sentence, labels = [], []\n",
        "  for line in tqdm(lines):\n",
        "    line = line.strip()\n",
        "    if not line:\n",
        "      if sentence and labels:\n",
        "        assert len(sentence) == len(labels)\n",
        "        data[\"sentences\"].append(sentence)\n",
        "        data[\"labels_per_sent\"].append(labels)\n",
        "        sentence, labels = [], []\n",
        "      continue\n",
        "    if line.startswith(\"-DOCSTART-\"):\n",
        "      continue\n",
        "    else:\n",
        "      values = line.split(\" \")\n",
        "      try:\n",
        "        token, _, _, label = values\n",
        "        sentence.append(token)\n",
        "        if label != 'O':\n",
        "          labels.append(label.split('-')[-1])\n",
        "        else:\n",
        "          labels.append(label)\n",
        "\n",
        "      except Exception as e:\n",
        "        print(f\"Error has occur: {e}\")\n",
        "        continue\n",
        "  return data\n",
        "\n",
        "\n",
        "train = read_data(\"eng.train\")\n",
        "valid = read_data(\"eng.testa\")"
      ],
      "execution_count": 6,
      "outputs": [
        {
          "output_type": "stream",
          "text": [
            "100%|██████████| 219554/219554 [00:00<00:00, 860821.85it/s]\n",
            "100%|██████████| 55045/55045 [00:00<00:00, 876264.20it/s]\n"
          ],
          "name": "stderr"
        }
      ]
    },
    {
      "cell_type": "code",
      "metadata": {
        "colab": {
          "base_uri": "https://localhost:8080/"
        },
        "id": "O1lyVFf4Uvn2",
        "outputId": "7c6c1050-839c-4ae0-a21f-8aa112054b71"
      },
      "source": [
        "train[\"sentences\"][0], train[\"labels_per_sent\"][0]"
      ],
      "execution_count": 7,
      "outputs": [
        {
          "output_type": "execute_result",
          "data": {
            "text/plain": [
              "(['EU', 'rejects', 'German', 'call', 'to', 'boycott', 'British', 'lamb', '.'],\n",
              " ['ORG', 'O', 'MISC', 'O', 'O', 'O', 'MISC', 'O', 'O'])"
            ]
          },
          "metadata": {
            "tags": []
          },
          "execution_count": 7
        }
      ]
    },
    {
      "cell_type": "code",
      "metadata": {
        "colab": {
          "base_uri": "https://localhost:8080/"
        },
        "id": "fJDxtTCEXL-x",
        "outputId": "19d2febc-aeb6-4070-c4d1-0ac8ea6295e9"
      },
      "source": [
        "valid[\"sentences\"][0], valid[\"labels_per_sent\"][0]"
      ],
      "execution_count": 8,
      "outputs": [
        {
          "output_type": "execute_result",
          "data": {
            "text/plain": [
              "(['CRICKET',\n",
              "  '-',\n",
              "  'LEICESTERSHIRE',\n",
              "  'TAKE',\n",
              "  'OVER',\n",
              "  'AT',\n",
              "  'TOP',\n",
              "  'AFTER',\n",
              "  'INNINGS',\n",
              "  'VICTORY',\n",
              "  '.'],\n",
              " ['O', 'O', 'ORG', 'O', 'O', 'O', 'O', 'O', 'O', 'O', 'O'])"
            ]
          },
          "metadata": {
            "tags": []
          },
          "execution_count": 8
        }
      ]
    },
    {
      "cell_type": "code",
      "metadata": {
        "id": "lksWDE2MZaGU"
      },
      "source": [
        "def get_label_distribution(labels: List[List[str]]):\n",
        "  labels = [label for labels_per_sent in labels for label in labels_per_sent]\n",
        "  return Counter(labels)"
      ],
      "execution_count": 9,
      "outputs": []
    },
    {
      "cell_type": "code",
      "metadata": {
        "id": "QL5KBeDUan66"
      },
      "source": [
        "train_distribution = get_label_distribution(train[\"labels_per_sent\"])\n",
        "valid_distribution = get_label_distribution(valid[\"labels_per_sent\"])"
      ],
      "execution_count": 10,
      "outputs": []
    },
    {
      "cell_type": "code",
      "metadata": {
        "colab": {
          "base_uri": "https://localhost:8080/",
          "height": 547
        },
        "id": "Ma7HHMQua3L8",
        "outputId": "23a382d5-365d-4236-a24d-9afe62dc17dc"
      },
      "source": [
        "def visualize_distr(data: Counter):\n",
        "  values = [y for y in sorted(data.values(), reverse=True)]\n",
        "  labels = list(itertools.chain.from_iterable([[x for (x, y) in data.items() if y==value] for value in values]))\n",
        "  plt.bar(x=labels, height=values)\n",
        "  plt.grid(True)\n",
        "  plt.show()\n",
        "\n",
        "\n",
        "print(\"Train distribution\")\n",
        "visualize_distr(train_distribution)\n",
        "print(\"Valid distribution\")\n",
        "visualize_distr(valid_distribution)"
      ],
      "execution_count": 11,
      "outputs": [
        {
          "output_type": "stream",
          "text": [
            "Train distribution\n"
          ],
          "name": "stdout"
        },
        {
          "output_type": "display_data",
          "data": {
            "image/png": "[encoded data removed]",
            "text/plain": [
              "<Figure size 432x288 with 1 Axes>"
            ]
          },
          "metadata": {
            "tags": [],
            "needs_background": "light"
          }
        },
        {
          "output_type": "stream",
          "text": [
            "Valid distribution\n"
          ],
          "name": "stdout"
        },
        {
          "output_type": "display_data",
          "data": {
            "image/png": "[encoded data removed]",
            "text/plain": [
              "<Figure size 432x288 with 1 Axes>"
            ]
          },
          "metadata": {
            "tags": [],
            "needs_background": "light"
          }
        }
      ]
    },
    {
      "cell_type": "code",
      "metadata": {
        "id": "tlO1AWxXYPVl"
      },
      "source": [
        "class NERDataset(Dataset):\n",
        "\n",
        "  def __init__(self, data):\n",
        "    self.sentence = data['sentences']\n",
        "    self.labels = data['labels_per_sent']\n",
        "\n",
        "  def __getitem__(self, index):\n",
        "    return {'sentence': self.sentence[index], \n",
        "            'labels': self.labels[index]}\n",
        "\n",
        "  def __len__(self):\n",
        "    return len(self.labels)\n",
        "\n",
        "train_dataset = NERDataset(train)\n",
        "valid_dataset = NERDataset(valid)"
      ],
      "execution_count": 12,
      "outputs": []
    },
    {
      "cell_type": "code",
      "metadata": {
        "id": "WPjUPwd6NirM"
      },
      "source": [
        "tag2idx = {'PAD': 0, 'LOC': 1, 'MISC': 2, 'O': 3, 'ORG': 4, 'PER': 5}"
      ],
      "execution_count": 13,
      "outputs": []
    },
    {
      "cell_type": "code",
      "metadata": {
        "id": "-vxBkvS_S7lM",
        "colab": {
          "base_uri": "https://localhost:8080/",
          "height": 164,
          "referenced_widgets": [
            "95fe4b7421dd4f91b1a3a21103daccb4",
            "e379d63997454865a59f4e78e353ae9f",
            "7a6c12fe929a44c99dd52d4dec375ab1",
            "b14aeb32e6d545e5bb7e65eb49ae6ab5",
            "9c2b196cce9948ccbf1c0e4b861ccd7b",
            "72b9a42ae26f4a4d8c347f590af34a64",
            "fa1b531e5a114848b9d6fc9c1ef1cbc7",
            "e6a5dbe034b04c3e9048461f8d7445dd",
            "b073c3044598436caadd332413045efb",
            "92d47145578d4089bad3fef2c9dbf3c8",
            "910b7046770d4687a5c2643576236985",
            "e6af4856038344d5b7b81dd1ddcf6be7",
            "65bf5fd69db045c89f6595189f06d85c",
            "1683b2f34a1b4806bcb209e0db45ba37",
            "57b123ecffc34eff90eadd5d98c9bb87",
            "a09fe9d567144cbbb9e20af5adeade48",
            "a6e3164ac8ae411b9dd7053bd508c7cd",
            "02a3a03d1f4d4f948880fab9507f4be2",
            "53b4423f414a49b88eed5076a6ed7fc6",
            "164e1659898148a891750d99b3b57d41",
            "faea73399fc04594bae2faa319fe3814",
            "228b3f54dacb42a19d1aedddd4dbffa3",
            "4302570e1d5340c78190031e5b328524",
            "646b9b9f14ae429da94acdc65addfad6"
          ]
        },
        "outputId": "5a98fdcb-d123-4093-95eb-7d0187301559"
      },
      "source": [
        "tokenizer = BertTokenizer.from_pretrained('bert-base-cased', do_lower_case=False)"
      ],
      "execution_count": 14,
      "outputs": [
        {
          "output_type": "display_data",
          "data": {
            "application/vnd.jupyter.widget-view+json": {
              "model_id": "95fe4b7421dd4f91b1a3a21103daccb4",
              "version_minor": 0,
              "version_major": 2
            },
            "text/plain": [
              "HBox(children=(FloatProgress(value=0.0, description='Downloading', max=213450.0, style=ProgressStyle(descripti…"
            ]
          },
          "metadata": {
            "tags": []
          }
        },
        {
          "output_type": "stream",
          "text": [
            "\n"
          ],
          "name": "stdout"
        },
        {
          "output_type": "display_data",
          "data": {
            "application/vnd.jupyter.widget-view+json": {
              "model_id": "b073c3044598436caadd332413045efb",
              "version_minor": 0,
              "version_major": 2
            },
            "text/plain": [
              "HBox(children=(FloatProgress(value=0.0, description='Downloading', max=29.0, style=ProgressStyle(description_w…"
            ]
          },
          "metadata": {
            "tags": []
          }
        },
        {
          "output_type": "stream",
          "text": [
            "\n"
          ],
          "name": "stdout"
        },
        {
          "output_type": "display_data",
          "data": {
            "application/vnd.jupyter.widget-view+json": {
              "model_id": "a6e3164ac8ae411b9dd7053bd508c7cd",
              "version_minor": 0,
              "version_major": 2
            },
            "text/plain": [
              "HBox(children=(FloatProgress(value=0.0, description='Downloading', max=435797.0, style=ProgressStyle(descripti…"
            ]
          },
          "metadata": {
            "tags": []
          }
        },
        {
          "output_type": "stream",
          "text": [
            "\n"
          ],
          "name": "stdout"
        }
      ]
    },
    {
      "cell_type": "code",
      "metadata": {
        "id": "N7I6C4pYgyPc"
      },
      "source": [
        "def tokenize_and_preserve_labels(sentence, text_labels):\n",
        "    tokenized_sentence = []\n",
        "    labels = []\n",
        "\n",
        "    for word, label in zip(sentence, text_labels):\n",
        "\n",
        "        tokenized_word = tokenizer.tokenize(word)\n",
        "        n_subwords = len(tokenized_word)\n",
        "\n",
        "        tokenized_sentence.extend(tokenized_word)\n",
        "\n",
        "        labels.extend([label] * n_subwords)\n",
        "\n",
        "    return tokenized_sentence, labels\n",
        "\n",
        "\n",
        "def labels_to_idx(labels):\n",
        "    return list(itertools.chain.from_iterable([[0], [tag2idx[i] for i in labels], [0]]))\n",
        "\n",
        "\n",
        "def get_padded(values):\n",
        "    max_len = 0\n",
        "    for value in values:\n",
        "        if len(value) > max_len:\n",
        "            max_len = len(value)\n",
        "\n",
        "    padded = np.array([value + [0]*(max_len-len(value)) for value in values])\n",
        "\n",
        "    return padded\n",
        "\n",
        "\n",
        "def collate_fn(batch):\n",
        "\n",
        "    inp = []\n",
        "    labels = []\n",
        "    for elem in batch:\n",
        "        tokenized_inputs, lbls = tokenize_and_preserve_labels(elem['sentence'], elem['labels'])\n",
        "        inp.append(tokenizer.encode_plus(tokenized_inputs, \n",
        "                                         None, \n",
        "                                         add_special_tokens=True, \n",
        "                                         return_token_type_ids=False)['input_ids'])\n",
        "        labels.append(labels_to_idx(lbls))\n",
        "\n",
        "    inputs = get_padded(inp) \n",
        "    labels = get_padded(labels)\n",
        "    attention_mask = get_padded([[1 for i in elem] for elem in inp]) \n",
        "\n",
        "    return {\"inputs\": torch.tensor(inputs), \"labels\": torch.LongTensor(labels), 'attention_mask': torch.tensor(attention_mask)}"
      ],
      "execution_count": 15,
      "outputs": []
    },
    {
      "cell_type": "code",
      "metadata": {
        "id": "7oRMRFr0c2Nb"
      },
      "source": [
        "train_dataloader = DataLoader(train_dataset, batch_size=32, shuffle=True, collate_fn=collate_fn)\n",
        "valid_dataloader = DataLoader(valid_dataset, batch_size=32, shuffle=True, collate_fn=collate_fn)"
      ],
      "execution_count": 16,
      "outputs": []
    },
    {
      "cell_type": "code",
      "metadata": {
        "colab": {
          "base_uri": "https://localhost:8080/",
          "height": 220,
          "referenced_widgets": [
            "c3c4413af3ca4ecc8877ad5476eb26af",
            "6747b371fe244d91b1be5091a70c8846",
            "a344867a17e64fcbbf28a56e6aa6cc8f",
            "ad9ef34920e9473ead1130a142ab9883",
            "daaf034e86c44544a6ed343a88ae851c",
            "0b716a60e5624c7db2dfd8ce11f8cf7f",
            "1dc4e941a7d546fca4c04875f5be556e",
            "7516c95d07804a64b38cbf700ac9850b",
            "db3d018aed794b53b5fa117c5cf79da7",
            "a3d1772aae6b44fd9a6341d8b54ad123",
            "059ca426db4d459db8812f8920e00ce7",
            "4a81af37f94e4db7b0dff7c812667522",
            "292ab609590c40a58059666bc462a109",
            "1a1b1ca4fd3142c6863bd8065f3d858c",
            "01f27b9456f74e3d8ee861ec339d0be5",
            "f739077f0e224fe2913b864b60995b7e"
          ]
        },
        "id": "k1Zc4sWA4xfR",
        "outputId": "ca1a3156-c599-4196-8451-55bf3ac474e2"
      },
      "source": [
        "from transformers import BertForTokenClassification, AdamW\n",
        "\n",
        "pretrained_model = BertForTokenClassification.from_pretrained( \"bert-base-cased\",\n",
        "                                                               num_labels=len(tag2idx),\n",
        "                                                               output_attentions = False,\n",
        "                                                               output_hidden_states = False)"
      ],
      "execution_count": 17,
      "outputs": [
        {
          "output_type": "display_data",
          "data": {
            "application/vnd.jupyter.widget-view+json": {
              "model_id": "c3c4413af3ca4ecc8877ad5476eb26af",
              "version_minor": 0,
              "version_major": 2
            },
            "text/plain": [
              "HBox(children=(FloatProgress(value=0.0, description='Downloading', max=570.0, style=ProgressStyle(description_…"
            ]
          },
          "metadata": {
            "tags": []
          }
        },
        {
          "output_type": "stream",
          "text": [
            "\n"
          ],
          "name": "stdout"
        },
        {
          "output_type": "display_data",
          "data": {
            "application/vnd.jupyter.widget-view+json": {
              "model_id": "db3d018aed794b53b5fa117c5cf79da7",
              "version_minor": 0,
              "version_major": 2
            },
            "text/plain": [
              "HBox(children=(FloatProgress(value=0.0, description='Downloading', max=435779157.0, style=ProgressStyle(descri…"
            ]
          },
          "metadata": {
            "tags": []
          }
        },
        {
          "output_type": "stream",
          "text": [
            "\n"
          ],
          "name": "stdout"
        },
        {
          "output_type": "stream",
          "text": [
            "Some weights of the model checkpoint at bert-base-cased were not used when initializing BertForTokenClassification: ['cls.predictions.bias', 'cls.predictions.decoder.weight', 'cls.seq_relationship.bias', 'cls.seq_relationship.weight', 'cls.predictions.transform.LayerNorm.bias', 'cls.predictions.transform.LayerNorm.weight', 'cls.predictions.transform.dense.bias', 'cls.predictions.transform.dense.weight']\n",
            "- This IS expected if you are initializing BertForTokenClassification from the checkpoint of a model trained on another task or with another architecture (e.g. initializing a BertForSequenceClassification model from a BertForPreTraining model).\n",
            "- This IS NOT expected if you are initializing BertForTokenClassification from the checkpoint of a model that you expect to be exactly identical (initializing a BertForSequenceClassification model from a BertForSequenceClassification model).\n",
            "Some weights of BertForTokenClassification were not initialized from the model checkpoint at bert-base-cased and are newly initialized: ['classifier.bias', 'classifier.weight']\n",
            "You should probably TRAIN this model on a down-stream task to be able to use it for predictions and inference.\n"
          ],
          "name": "stderr"
        }
      ]
    },
    {
      "cell_type": "code",
      "metadata": {
        "id": "Kv-cKwqnde3E"
      },
      "source": [
        "class NERModel(nn.Module):\n",
        "\n",
        "  def __init__(self, pretrained_model):\n",
        "    super().__init__()\n",
        "    \n",
        "    self.bert = pretrained_model\n",
        "\n",
        "  def forward(self, inputs, attention_mask=None, labels=None, token_type_ids=None):\n",
        "    outputs = self.bert(inputs,\n",
        "                        token_type_ids=token_type_ids,\n",
        "                        attention_mask=attention_mask,\n",
        "                        labels=labels)\n",
        "\n",
        "    return outputs"
      ],
      "execution_count": 18,
      "outputs": []
    },
    {
      "cell_type": "code",
      "metadata": {
        "id": "W-Y8I1iReYxv"
      },
      "source": [
        "device = \"cuda:0\""
      ],
      "execution_count": 19,
      "outputs": []
    },
    {
      "cell_type": "code",
      "metadata": {
        "id": "__G8sNO0eGfp"
      },
      "source": [
        "model = NERModel(pretrained_model)\n",
        "model = model.to(device)"
      ],
      "execution_count": 20,
      "outputs": []
    },
    {
      "cell_type": "code",
      "metadata": {
        "id": "7RjomGC26Ewt"
      },
      "source": [
        "param_optimizer = list(model.bert.named_parameters())\n",
        "no_decay = ['bias', 'gamma', 'beta']\n",
        "optimizer_grouped_parameters = [{'params': [p for n, p in param_optimizer if not any(nd in n for nd in no_decay)],\n",
        "                                 'weight_decay_rate': 0.01},\n",
        "                                {'params': [p for n, p in param_optimizer if any(nd in n for nd in no_decay)],\n",
        "                                 'weight_decay_rate': 0.0}]\n",
        "\n",
        "optimizer = AdamW(optimizer_grouped_parameters, lr=3e-5, eps=1e-8)"
      ],
      "execution_count": 21,
      "outputs": []
    },
    {
      "cell_type": "code",
      "metadata": {
        "id": "mSxc2qQTfvJu"
      },
      "source": [
        "def transform_logits(predictions: torch.tensor):\n",
        "  predictions = predictions.tolist()\n",
        "  logits2idx = []\n",
        "  logits2idx.extend([list(p) for p in np.argmax(predictions, axis=2)])\n",
        "  transformed_logits = []\n",
        "  for elem in logits2idx:\n",
        "    transformed_logits.append(list(itertools.chain.from_iterable([[key for (key, value) in tag2idx.items() if value==i] for i in elem]))[1:])\n",
        "  return transformed_logits\n",
        "\n",
        "def transform_target(target_labels: torch.tensor):\n",
        "  target_labels = target_labels.tolist()\n",
        "  transformed_target = []\n",
        "  for elem in target_labels:\n",
        "    transformed_target.append(list(itertools.chain.from_iterable([[key for (key, value) in tag2idx.items() if value==i] for i in elem]))[1:])\n",
        "  return transformed_target"
      ],
      "execution_count": 22,
      "outputs": []
    },
    {
      "cell_type": "code",
      "metadata": {
        "id": "Bk0M2FPNhD25"
      },
      "source": [
        "def count_metrics(gold_labels_per_sentence: List[List[str]], predict_labels_per_sentence: List[List[str]]):\n",
        "  gold_labels = [l for l_per_sent in gold_labels_per_sentence for l in l_per_sent]\n",
        "  predict_labels = [l for l_per_sent in predict_labels_per_sentence for l in l_per_sent]\n",
        "  print(classification_report(gold_labels, predict_labels))"
      ],
      "execution_count": 23,
      "outputs": []
    },
    {
      "cell_type": "code",
      "metadata": {
        "id": "2NbdrI6GtpBb"
      },
      "source": [
        "def predict_preprocessing(gold_labels: List[str], predicted_labels: List[str]):\n",
        "  processed_predict = []\n",
        "  for i in range(len(gold_labels)):\n",
        "    sent_len = len(gold_labels[i])\n",
        "    processed_predict.append(predicted_labels[i][:sent_len])\n",
        "  return processed_predict"
      ],
      "execution_count": 24,
      "outputs": []
    },
    {
      "cell_type": "code",
      "metadata": {
        "id": "_c45KAbxd7Yt",
        "colab": {
          "base_uri": "https://localhost:8080/"
        },
        "outputId": "75489010-c7d8-443f-a731-567a09127114"
      },
      "source": [
        "losses = {\"train_losses\": [], \"valid_losses\": []}\n",
        "\n",
        "epochs = 3\n",
        "CLIP = 1.0\n",
        "\n",
        "for epoch in range(epochs):\n",
        "\n",
        "  print(f\"Start eposh #{epoch}\")\n",
        "  \n",
        "  train_loss_sum = 0\n",
        "  model.train()\n",
        "  for i, train_batch in enumerate(train_dataloader):\n",
        "    torch.cuda.empty_cache()\n",
        "    inp = train_batch['inputs'].to(device)\n",
        "    lbls = train_batch['labels'].to(device)\n",
        "    attn = train_batch['attention_mask'].to(device)\n",
        "\n",
        "    optimizer.zero_grad()\n",
        "\n",
        "    outputs = model.forward(inp, attention_mask=attn, labels=lbls)\n",
        "\n",
        "    loss = outputs.loss\n",
        "    loss.backward()\n",
        "    torch.nn.utils.clip_grad_norm_(parameters=model.bert.parameters(), max_norm=CLIP)\n",
        "    optimizer.step()\n",
        "\n",
        "    train_loss_sum += loss.cpu().detach().numpy().item()\n",
        "\n",
        "  losses[\"train_losses\"].append(train_loss_sum/(i+1))\n",
        "\n",
        "  predict_labels, gold_labels = [], []\n",
        "\n",
        "  val_loss_sum = 0\n",
        "  model.eval()\n",
        "  with torch.no_grad():\n",
        "    for i, valid_batch in enumerate(valid_dataloader):\n",
        "      torch.cuda.empty_cache()\n",
        "      inp = valid_batch['inputs'].to(device)\n",
        "      lbls = valid_batch['labels'].to(device)\n",
        "      attn = valid_batch['attention_mask'].to(device)\n",
        "\n",
        "      outputs = model.forward(inp, attention_mask=attn, labels=lbls)\n",
        "      loss = outputs.loss\n",
        "      logits = outputs.logits\n",
        "\n",
        "      val_loss_sum += loss.cpu().detach().numpy().item()\n",
        "      gold_labels.append(transform_target(valid_batch[\"labels\"]))\n",
        "      predict_labels.append(transform_logits(logits.cpu()))\n",
        "\n",
        "  losses[\"valid_losses\"].append(val_loss_sum/(i+1))\n",
        "\n",
        "  gold_labels = list(itertools.chain.from_iterable(gold_labels))\n",
        "  gold_labels = [[x for x in elem if x !='PAD'] for elem in gold_labels]\n",
        "  predict_labels = list(itertools.chain.from_iterable(predict_labels))\n",
        "  predict_labels = predict_preprocessing(gold_labels, predict_labels)\n",
        "  \n",
        "  count_metrics(gold_labels, predict_labels)\n",
        "  \n",
        "  print(f\"End eposh #{epoch}\")"
      ],
      "execution_count": 25,
      "outputs": [
        {
          "output_type": "stream",
          "text": [
            "Start eposh #0\n",
            "              precision    recall  f1-score   support\n",
            "\n",
            "         LOC       0.97      0.93      0.95      4016\n",
            "        MISC       0.89      0.85      0.87      2071\n",
            "           O       0.99      1.00      0.99     51723\n",
            "         ORG       0.94      0.92      0.93      3781\n",
            "         PER       0.98      0.98      0.98      6357\n",
            "\n",
            "    accuracy                           0.98     67948\n",
            "   macro avg       0.95      0.93      0.94     67948\n",
            "weighted avg       0.98      0.98      0.98     67948\n",
            "\n",
            "End eposh #0\n",
            "Start eposh #1\n",
            "              precision    recall  f1-score   support\n",
            "\n",
            "         LOC       0.96      0.96      0.96      4016\n",
            "        MISC       0.91      0.89      0.90      2071\n",
            "           O       0.99      1.00      1.00     51723\n",
            "         ORG       0.95      0.93      0.94      3781\n",
            "         PER       0.98      0.98      0.98      6357\n",
            "\n",
            "    accuracy                           0.99     67948\n",
            "   macro avg       0.96      0.95      0.96     67948\n",
            "weighted avg       0.99      0.99      0.99     67948\n",
            "\n",
            "End eposh #1\n",
            "Start eposh #2\n",
            "              precision    recall  f1-score   support\n",
            "\n",
            "         LOC       0.95      0.96      0.96      4016\n",
            "        MISC       0.92      0.87      0.90      2071\n",
            "           O       1.00      1.00      1.00     51723\n",
            "         ORG       0.93      0.94      0.93      3781\n",
            "         PER       0.98      0.99      0.98      6357\n",
            "\n",
            "    accuracy                           0.99     67948\n",
            "   macro avg       0.96      0.95      0.95     67948\n",
            "weighted avg       0.99      0.99      0.99     67948\n",
            "\n",
            "End eposh #2\n"
          ],
          "name": "stdout"
        }
      ]
    },
    {
      "cell_type": "code",
      "metadata": {
        "id": "pRdR83ScB9CL",
        "colab": {
          "base_uri": "https://localhost:8080/"
        },
        "outputId": "86b69882-8da9-48b0-d733-195f80381087"
      },
      "source": [
        "print('Model f1_score: {0:.6f}'.format(f1_score(gold_labels, predict_labels)))\n",
        "print('Model accuracy: {0:.6f}'.format(accuracy_score(gold_labels, predict_labels)))"
      ],
      "execution_count": 26,
      "outputs": [
        {
          "output_type": "stream",
          "text": [
            "Model f1_score: 0.944546\n",
            "Model accuracy: 0.985754\n"
          ],
          "name": "stdout"
        }
      ]
    },
    {
      "cell_type": "code",
      "metadata": {
        "id": "M_WDizngNNdT",
        "colab": {
          "base_uri": "https://localhost:8080/",
          "height": 404
        },
        "outputId": "316ab395-9605-42a2-e6a6-e033b52b64cc"
      },
      "source": [
        "plt.rcParams[\"figure.figsize\"] = (20,6)\n",
        "plt.plot(losses[\"train_losses\"], label='train loss')\n",
        "plt.plot(losses[\"valid_losses\"], label='valid loss')\n",
        "plt.grid(True)\n",
        "plt.title('Loss changing during the model training')\n",
        "plt.xlabel('Epoch')\n",
        "plt.ylabel('loss')\n",
        "plt.legend(loc='upper right')\n",
        "plt.show();"
      ],
      "execution_count": 27,
      "outputs": [
        {
          "output_type": "display_data",
          "data": {
            "image/png": "[encoded data removed]",
            "text/plain": [
              "<Figure size 1440x432 with 1 Axes>"
            ]
          },
          "metadata": {
            "tags": [],
            "needs_background": "light"
          }
        }
      ]
    },
    {
      "cell_type": "code",
      "metadata": {
        "id": "CuB7b3ec6smA"
      },
      "source": [
        "def show_example(sentence, tokenizer, model):\n",
        "  tokenized_sentence = tokenizer.encode(sentence)\n",
        "  input_ids = torch.tensor([tokenized_sentence]).cuda()\n",
        "\n",
        "  model.eval()\n",
        "  with torch.no_grad():\n",
        "    output = model(input_ids)\n",
        "\n",
        "  label_indices = np.argmax(output[0].to('cpu').numpy(), axis=2)\n",
        "\n",
        "  tokens = tokenizer.convert_ids_to_tokens(input_ids.to('cpu').numpy()[0])\n",
        "\n",
        "  new_tokens, new_labels = [], []\n",
        "  for token, label_idx in zip(tokens, label_indices[0]):\n",
        "      if token.startswith(\"##\"):\n",
        "          new_tokens[-1] = new_tokens[-1] + token[2:]\n",
        "      else:\n",
        "          new_labels.append([key for (key, value) in tag2idx.items() if value==label_idx])\n",
        "          new_tokens.append(token)\n",
        "\n",
        "  new_labels = list(itertools.chain.from_iterable(new_labels))\n",
        "  for token, label in zip(new_tokens, new_labels):\n",
        "    print(\"{}\\t{}\".format(label, token))"
      ],
      "execution_count": 28,
      "outputs": []
    },
    {
      "cell_type": "code",
      "metadata": {
        "id": "HVZlQNPo-GJm",
        "colab": {
          "base_uri": "https://localhost:8080/"
        },
        "outputId": "20b2bb6b-6a16-48fd-b9fc-6043552e8c0a"
      },
      "source": [
        "test_sentence = \"\"\"\n",
        "In a flier distributed on Capitol Hill last week, Elon Musk’s SpaceX warned that \n",
        "legislation now being considered would reward “Jeff Bezos with a $10 billion \n",
        "sole-source hand-out” that would tie up NASA’s moon plans and hand “space leadership to China.” \n",
        "\"\"\"\n",
        "\n",
        "show_example(test_sentence, tokenizer, model)"
      ],
      "execution_count": 29,
      "outputs": [
        {
          "output_type": "stream",
          "text": [
            "PAD\t[CLS]\n",
            "O\tIn\n",
            "O\ta\n",
            "O\tflier\n",
            "O\tdistributed\n",
            "O\ton\n",
            "LOC\tCapitol\n",
            "LOC\tHill\n",
            "O\tlast\n",
            "O\tweek\n",
            "O\t,\n",
            "PER\tElon\n",
            "PER\tMusk\n",
            "O\t’\n",
            "O\ts\n",
            "ORG\tSpaceX\n",
            "O\twarned\n",
            "O\tthat\n",
            "O\tlegislation\n",
            "O\tnow\n",
            "O\tbeing\n",
            "O\tconsidered\n",
            "O\twould\n",
            "O\treward\n",
            "O\t“\n",
            "PER\tJeff\n",
            "PER\tBezos\n",
            "O\twith\n",
            "O\ta\n",
            "O\t$\n",
            "O\t10\n",
            "O\tbillion\n",
            "O\tsole\n",
            "O\t-\n",
            "O\tsource\n",
            "O\thand\n",
            "O\t-\n",
            "O\tout\n",
            "O\t”\n",
            "O\tthat\n",
            "O\twould\n",
            "O\ttie\n",
            "O\tup\n",
            "ORG\tNASA\n",
            "O\t’\n",
            "O\ts\n",
            "O\tmoon\n",
            "O\tplans\n",
            "O\tand\n",
            "O\thand\n",
            "O\t“\n",
            "O\tspace\n",
            "O\tleadership\n",
            "O\tto\n",
            "LOC\tChina\n",
            "O\t.\n",
            "O\t”\n",
            "PAD\t[SEP]\n"
          ],
          "name": "stdout"
        }
      ]
    },
    {
      "cell_type": "markdown",
      "metadata": {
        "id": "kFlFfDwrMriy"
      },
      "source": [
        "The solution is based on this [approach](https://www.depends-on-the-definition.com/named-entity-recognition-with-bert/)  and on the NLP's homeworks of the DLS MIPT"
      ]
    },
    {
      "cell_type": "code",
      "metadata": {
        "id": "MNU7SUlD7JPV"
      },
      "source": [
        ""
      ],
      "execution_count": null,
      "outputs": []
    }
  ]
}